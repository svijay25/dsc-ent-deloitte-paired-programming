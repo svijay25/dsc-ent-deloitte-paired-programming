{
 "cells": [
  {
   "cell_type": "markdown",
   "metadata": {},
   "source": [
    "# ⚯ Pair Programming - Machine Learning Fundamentals\n",
    "## Introduction\n",
    "\n",
    "In this cumulative lab, you will work through an end-to-end machine learning workflow, focusing on the fundamental concepts of machine learning theory and processes. The main emphasis is on modeling theory (not EDA or preprocessing), so we will skip over some of the data visualization and data preparation steps that you would take in an actual modeling process."
   ]
  },
  {
   "cell_type": "markdown",
   "metadata": {},
   "source": [
    "## Objectives\n",
    "\n",
    "You will be able to:\n",
    "\n",
    "* Recall the purpose of, and practice performing, a train-test split\n",
    "* Recall the difference between bias and variance\n",
    "* Practice identifying bias and variance in model performance\n",
    "* Practice applying strategies to minimize bias and variance\n",
    "* Practice selecting a final model and evaluating it on a holdout set"
   ]
  },
  {
   "cell_type": "markdown",
   "metadata": {},
   "source": [
    "## Your Task: Build a Model to Predict Blood Pressure\n",
    "\n",
    "![stethoscope sitting on a case](https://curriculum-content.s3.amazonaws.com/data-science/images/stethoscope.jpg)\n",
    "\n",
    "<span>Photo by <a href=\"https://unsplash.com/@marceloleal80?utm_source=unsplash&amp;utm_medium=referral&amp;utm_content=creditCopyText\">Marcelo Leal</a> on <a href=\"https://unsplash.com/s/photos/blood-pressure?utm_source=unsplash&amp;utm_medium=referral&amp;utm_content=creditCopyText\">Unsplash</a></span>"
   ]
  },
  {
   "cell_type": "markdown",
   "metadata": {},
   "source": [
    "### Business and Data Understanding\n",
    "\n",
    "Hypertension (high blood pressure) is a treatable condition, but measuring blood pressure requires specialized equipment that most people do not have at home.\n",
    "\n",
    "The question, then, is ***can we predict blood pressure using just a scale and a tape measure***? These measuring tools, which individuals are more likely to have at home, might be able to flag individuals with an increased risk of hypertension.\n",
    "\n",
    "[Researchers in Brazil](https://doi.org/10.1155/2014/637635) collected data from several hundred college students in order to answer this question. We will be specifically using the data they collected from female students.\n",
    "\n",
    "The measurements we have are:\n",
    "\n",
    "* Age (age in years)\n",
    "* BMI (body mass index, a ratio of weight to height)\n",
    "* WC (waist circumference in centimeters)\n",
    "* HC (hip circumference in centimeters)\n",
    "* WHR (waist-hip ratio)\n",
    "* SBP (systolic blood pressure)\n",
    "\n",
    "The chart below describes various blood pressure values:\n",
    "\n",
    "<a title=\"Ian Furst, CC BY-SA 4.0 &lt;https://creativecommons.org/licenses/by-sa/4.0&gt;, via Wikimedia Commons\" href=\"https://commons.wikimedia.org/wiki/File:Hypertension_ranges_chart.png\"><img width=\"512\" alt=\"Hypertension ranges chart\" src=\"https://upload.wikimedia.org/wikipedia/commons/thumb/8/8b/Hypertension_ranges_chart.png/512px-Hypertension_ranges_chart.png\"></a>\n",
    "\n",
    "### Requirements\n",
    "\n",
    "#### 1. Perform a Train-Test Split\n",
    "\n",
    "Load the data into a dataframe using pandas, separate the features (`X`) from the target (`y`), and use the `train_test_split` function to separate data into training and test sets.\n",
    "\n",
    "#### 2. Build and Evaluate a First Simple Model\n",
    "\n",
    "Using the `LinearRegression` model and `mean_squared_error` function from scikit-learn, build and evaluate a simple linear regression model using the training data. Also, use `cross_val_score` to simulate unseen data, without actually using the holdout test set.\n",
    "\n",
    "#### 3. Use `PolynomialFeatures` to Reduce Underfitting\n",
    "\n",
    "Apply a `PolynomialFeatures` transformer to give the model more ability to pick up on information from the training data. Test out different polynomial degrees until you have a model that is perfectly fit to the training data.\n",
    "\n",
    "#### 4. Use Regularization to Reduce Overfitting\n",
    "\n",
    "Instead of a basic `LinearRegression`, use a `Ridge` regression model to apply regularization to the overfit model. In order to do this you will need to scale the data. Test out different regularization penalties to find the best model.\n",
    "\n",
    "#### 5. Evaluate a Final Model on the Test Set\n",
    "\n",
    "Preprocess `X_test` and `y_test` appropriately in order to evaluate the performance of your final model on unseen data."
   ]
  },
  {
   "cell_type": "markdown",
   "metadata": {},
   "source": [
    "## 1. Perform a Train-Test Split\n",
    "\n",
    "Before looking at the text below, try to remember: why is a train-test split the *first* step in a machine learning process?\n",
    "\n",
    "---\n",
    "\n",
    "<details>\n",
    "    <summary style=\"cursor: pointer\"><b>Answer (click to reveal)</b></summary>\n",
    "\n",
    "A machine learning (predictive) workflow fundamentally emphasizes creating *a model that will perform well on unseen data*. We will hold out a subset of our original data as the \"test\" set that will stand in for truly unseen data that the model will encounter in the future.\n",
    "\n",
    "We make this separation as the first step for two reasons:\n",
    "\n",
    "1. Most importantly, we are avoiding *leakage* of information from the test set into the training set. Leakage can lead to inflated metrics, since the model has information about the \"unseen\" data that it won't have about real unseen data. This is why we always want to fit our transformers and models on the training data only, not the full dataset.\n",
    "2. Also, we want to make sure the code we have written will actually work on unseen data. If we are able to transform our test data and evaluate it with our final model, that's a good sign that the same process will work for future data as well.\n",
    "    \n",
    "</details>\n",
    "\n",
    "\n",
    "### Loading the Data\n",
    "\n",
    "In the cell below, we import the pandas library and open the full dataset for you. It has already been formatted and subsetted down to the relevant columns."
   ]
  },
  {
   "cell_type": "code",
   "execution_count": 3,
   "metadata": {},
   "outputs": [
    {
     "data": {
      "text/html": [
       "<div>\n",
       "<style scoped>\n",
       "    .dataframe tbody tr th:only-of-type {\n",
       "        vertical-align: middle;\n",
       "    }\n",
       "\n",
       "    .dataframe tbody tr th {\n",
       "        vertical-align: top;\n",
       "    }\n",
       "\n",
       "    .dataframe thead th {\n",
       "        text-align: right;\n",
       "    }\n",
       "</style>\n",
       "<table border=\"1\" class=\"dataframe\">\n",
       "  <thead>\n",
       "    <tr style=\"text-align: right;\">\n",
       "      <th></th>\n",
       "      <th>Age</th>\n",
       "      <th>bmi</th>\n",
       "      <th>wc</th>\n",
       "      <th>hc</th>\n",
       "      <th>whr</th>\n",
       "      <th>SBP</th>\n",
       "    </tr>\n",
       "  </thead>\n",
       "  <tbody>\n",
       "    <tr>\n",
       "      <th>0</th>\n",
       "      <td>31</td>\n",
       "      <td>28.76</td>\n",
       "      <td>88</td>\n",
       "      <td>101</td>\n",
       "      <td>87</td>\n",
       "      <td>128.00</td>\n",
       "    </tr>\n",
       "    <tr>\n",
       "      <th>1</th>\n",
       "      <td>21</td>\n",
       "      <td>27.59</td>\n",
       "      <td>86</td>\n",
       "      <td>110</td>\n",
       "      <td>78</td>\n",
       "      <td>123.33</td>\n",
       "    </tr>\n",
       "    <tr>\n",
       "      <th>2</th>\n",
       "      <td>23</td>\n",
       "      <td>22.45</td>\n",
       "      <td>72</td>\n",
       "      <td>104</td>\n",
       "      <td>69</td>\n",
       "      <td>90.00</td>\n",
       "    </tr>\n",
       "    <tr>\n",
       "      <th>3</th>\n",
       "      <td>24</td>\n",
       "      <td>28.16</td>\n",
       "      <td>89</td>\n",
       "      <td>108</td>\n",
       "      <td>82</td>\n",
       "      <td>126.67</td>\n",
       "    </tr>\n",
       "    <tr>\n",
       "      <th>4</th>\n",
       "      <td>20</td>\n",
       "      <td>25.05</td>\n",
       "      <td>81</td>\n",
       "      <td>108</td>\n",
       "      <td>75</td>\n",
       "      <td>120.00</td>\n",
       "    </tr>\n",
       "    <tr>\n",
       "      <th>...</th>\n",
       "      <td>...</td>\n",
       "      <td>...</td>\n",
       "      <td>...</td>\n",
       "      <td>...</td>\n",
       "      <td>...</td>\n",
       "      <td>...</td>\n",
       "    </tr>\n",
       "    <tr>\n",
       "      <th>219</th>\n",
       "      <td>21</td>\n",
       "      <td>45.15</td>\n",
       "      <td>112</td>\n",
       "      <td>132</td>\n",
       "      <td>85</td>\n",
       "      <td>157.00</td>\n",
       "    </tr>\n",
       "    <tr>\n",
       "      <th>220</th>\n",
       "      <td>24</td>\n",
       "      <td>37.89</td>\n",
       "      <td>96</td>\n",
       "      <td>124</td>\n",
       "      <td>77</td>\n",
       "      <td>124.67</td>\n",
       "    </tr>\n",
       "    <tr>\n",
       "      <th>221</th>\n",
       "      <td>37</td>\n",
       "      <td>33.24</td>\n",
       "      <td>104</td>\n",
       "      <td>108</td>\n",
       "      <td>96</td>\n",
       "      <td>126.67</td>\n",
       "    </tr>\n",
       "    <tr>\n",
       "      <th>222</th>\n",
       "      <td>28</td>\n",
       "      <td>35.68</td>\n",
       "      <td>103</td>\n",
       "      <td>130</td>\n",
       "      <td>79</td>\n",
       "      <td>114.67</td>\n",
       "    </tr>\n",
       "    <tr>\n",
       "      <th>223</th>\n",
       "      <td>18</td>\n",
       "      <td>36.24</td>\n",
       "      <td>113</td>\n",
       "      <td>128</td>\n",
       "      <td>88</td>\n",
       "      <td>119.67</td>\n",
       "    </tr>\n",
       "  </tbody>\n",
       "</table>\n",
       "<p>224 rows × 6 columns</p>\n",
       "</div>"
      ],
      "text/plain": [
       "     Age    bmi   wc   hc  whr     SBP\n",
       "0     31  28.76   88  101   87  128.00\n",
       "1     21  27.59   86  110   78  123.33\n",
       "2     23  22.45   72  104   69   90.00\n",
       "3     24  28.16   89  108   82  126.67\n",
       "4     20  25.05   81  108   75  120.00\n",
       "..   ...    ...  ...  ...  ...     ...\n",
       "219   21  45.15  112  132   85  157.00\n",
       "220   24  37.89   96  124   77  124.67\n",
       "221   37  33.24  104  108   96  126.67\n",
       "222   28  35.68  103  130   79  114.67\n",
       "223   18  36.24  113  128   88  119.67\n",
       "\n",
       "[224 rows x 6 columns]"
      ]
     },
     "execution_count": 3,
     "metadata": {},
     "output_type": "execute_result"
    }
   ],
   "source": [
    "import pandas as pd\n",
    "from sklearn.model_selection import train_test_split\n",
    "\n",
    "# Load the dataset\n",
    "df = pd.read_csv(\"blood_pressure.csv\", index_col=0)\n",
    "df"
   ]
  },
  {
   "cell_type": "markdown",
   "metadata": {},
   "source": [
    "### Identifying Features and Target\n",
    "\n",
    "Once the data is loaded into a pandas dataframe, the next step is identifying which columns represent features and which column represents the target.\n",
    "\n",
    "Recall that in this instance, we are trying to predict systolic blood pressure.\n",
    "\n",
    "In the cell below, assign `X` to be the features and `y` to be the target. Remember that `X` should **NOT** contain the target."
   ]
  },
  {
   "cell_type": "code",
   "execution_count": 4,
   "metadata": {},
   "outputs": [
    {
     "name": "stdout",
     "output_type": "stream",
     "text": [
      "Features (X):\n",
      "   Age    bmi  wc   hc  whr\n",
      "0   31  28.76  88  101   87\n",
      "1   21  27.59  86  110   78\n",
      "2   23  22.45  72  104   69\n",
      "3   24  28.16  89  108   82\n",
      "4   20  25.05  81  108   75\n",
      "\n",
      "Target (y):\n",
      "0    128.00\n",
      "1    123.33\n",
      "2     90.00\n",
      "3    126.67\n",
      "4    120.00\n",
      "Name: SBP, dtype: float64\n"
     ]
    }
   ],
   "source": [
    "# Separate features (X) and target (y)\n",
    "X = df.drop(columns=['SBP'])\n",
    "y = df['SBP']\n",
    "\n",
    "# Display the first few rows of X and y to verify\n",
    "print(\"Features (X):\")\n",
    "print(X.head())\n",
    "\n",
    "print(\"\\nTarget (y):\")\n",
    "print(y.head())"
   ]
  },
  {
   "cell_type": "markdown",
   "metadata": {},
   "source": [
    "Make sure the assert statements pass before moving on to the next step:"
   ]
  },
  {
   "cell_type": "code",
   "execution_count": 5,
   "metadata": {},
   "outputs": [],
   "source": [
    "\n",
    "# X should be a 2D matrix with 224 rows and 5 columns\n",
    "assert X.shape == (224, 5)\n",
    "\n",
    "# y should be a 1D array with 224 values\n",
    "assert y.shape == (224,)"
   ]
  },
  {
   "cell_type": "markdown",
   "metadata": {},
   "source": [
    "### Performing Train-Test Split\n",
    "\n",
    "In the cell below, import `train_test_split` from scikit-learn ([documentation here](https://scikit-learn.org/stable/modules/generated/sklearn.model_selection.train_test_split.html)).\n",
    "\n",
    "Then create variables `X_train`, `X_test`, `y_train`, and `y_test` using `train_test_split` with `X`, `y`, and `random_state=2021`."
   ]
  },
  {
   "cell_type": "code",
   "execution_count": 6,
   "metadata": {},
   "outputs": [
    {
     "name": "stdout",
     "output_type": "stream",
     "text": [
      "X_train shape: (179, 5)\n",
      "X_test shape: (45, 5)\n",
      "y_train shape: (179,)\n",
      "y_test shape: (45,)\n"
     ]
    }
   ],
   "source": [
    "\n",
    "# Import the relevant function\n",
    "from sklearn.model_selection import train_test_split\n",
    "\n",
    "# Create train and test data using random_state=2021\n",
    "X_train, X_test, y_train, y_test = train_test_split(X, y, test_size=0.2, random_state=2021)\n",
    "\n",
    "# Display the shapes of the resulting datasets to verify\n",
    "print(\"X_train shape:\", X_train.shape)\n",
    "print(\"X_test shape:\", X_test.shape)\n",
    "print(\"y_train shape:\", y_train.shape)\n",
    "print(\"y_test shape:\", y_test.shape)"
   ]
  },
  {
   "cell_type": "markdown",
   "metadata": {},
   "source": [
    "Make sure that the assert statements pass:"
   ]
  },
  {
   "cell_type": "code",
   "execution_count": 8,
   "metadata": {},
   "outputs": [],
   "source": [
    "\n",
    "assert X_train.shape == (179, 5)\n",
    "assert X_test.shape == (45, 5)\n",
    "\n",
    "assert y_train.shape == (179,)\n",
    "assert y_test.shape == (45,)"
   ]
  },
  {
   "cell_type": "markdown",
   "metadata": {},
   "source": [
    "## 2. Build and Evaluate a First Simple Model\n",
    "\n",
    "For our baseline model (FSM), we'll use a `LinearRegression` from scikit-learn ([documentation here](https://scikit-learn.org/stable/modules/generated/sklearn.linear_model.LinearRegression.html)).\n",
    "\n",
    "### Instantiating the Model\n",
    "\n",
    "In the cell below, instantiate a `LinearRegression` model and assign it to the variable `baseline_model`."
   ]
  },
  {
   "cell_type": "code",
   "execution_count": 9,
   "metadata": {},
   "outputs": [
    {
     "name": "stdout",
     "output_type": "stream",
     "text": [
      "LinearRegression()\n"
     ]
    }
   ],
   "source": [
    "# Import the relevant class\n",
    "from sklearn.linear_model import LinearRegression\n",
    "\n",
    "# Instantiate a linear regression model\n",
    "baseline_model = LinearRegression()\n",
    "\n",
    "# Display the instantiated model to verify\n",
    "print(baseline_model)\n"
   ]
  },
  {
   "cell_type": "markdown",
   "metadata": {},
   "source": [
    "Make sure the assert passes:"
   ]
  },
  {
   "cell_type": "code",
   "execution_count": 10,
   "metadata": {},
   "outputs": [],
   "source": [
    "\n",
    "# baseline_model should be a linear regression model\n",
    "assert type(baseline_model) == LinearRegression"
   ]
  },
  {
   "cell_type": "markdown",
   "metadata": {},
   "source": [
    "If you are getting the type of `baseline_model` as `abc.ABCMeta`, make sure you actually invoked the constructor of the linear regression class with `()`.\n",
    "\n",
    "If you are getting `NameError: name 'LinearRegression' is not defined`, make sure you have the correct import statement."
   ]
  },
  {
   "cell_type": "markdown",
   "metadata": {},
   "source": [
    "### Fitting and Evaluating the Model on the Full Training Set\n",
    "\n",
    "In the cell below, fit the model on `X_train` and `y_train`:"
   ]
  },
  {
   "cell_type": "code",
   "execution_count": 11,
   "metadata": {},
   "outputs": [
    {
     "name": "stdout",
     "output_type": "stream",
     "text": [
      "Coefficients: [ 0.38469695  1.519292   -1.35854542  0.78721228  1.37264957]\n",
      "Intercept: -5.410811244906753\n"
     ]
    }
   ],
   "source": [
    "# fit model variable to X_train and y_train\n",
    "# Import the relevant class\n",
    "from sklearn.linear_model import LinearRegression\n",
    "\n",
    "# Instantiate a linear regression model\n",
    "baseline_model = LinearRegression()\n",
    "\n",
    "# Fit the model on the training data\n",
    "baseline_model.fit(X_train, y_train)\n",
    "\n",
    "# Display the coefficients and intercept to verify\n",
    "print(\"Coefficients:\", baseline_model.coef_)\n",
    "print(\"Intercept:\", baseline_model.intercept_)\n"
   ]
  },
  {
   "cell_type": "markdown",
   "metadata": {},
   "source": [
    "Then, evaluate the model using root mean squared error (RMSE). To do this, first import the `mean_squared_error` function from scikit-learn ([documentation here](https://scikit-learn.org/stable/modules/generated/sklearn.metrics.mean_squared_error.html)). Then pass in both the actual and predicted y values, along with `squared=False` (to get the RMSE rather than MSE)."
   ]
  },
  {
   "cell_type": "code",
   "execution_count": 12,
   "metadata": {},
   "outputs": [
    {
     "name": "stdout",
     "output_type": "stream",
     "text": [
      "Baseline RMSE on Training Data: 15.587267103496318\n"
     ]
    },
    {
     "name": "stderr",
     "output_type": "stream",
     "text": [
      "C:\\Users\\svijayaraghavan\\AppData\\Local\\anaconda3\\Lib\\site-packages\\sklearn\\metrics\\_regression.py:483: FutureWarning: 'squared' is deprecated in version 1.4 and will be removed in 1.6. To calculate the root mean squared error, use the function'root_mean_squared_error'.\n",
      "  warnings.warn(\n"
     ]
    }
   ],
   "source": [
    "# Import the relevant function\n",
    "from sklearn.metrics import mean_squared_error\n",
    "\n",
    "# Generate predictions using baseline_model and X_train\n",
    "y_pred_baseline = baseline_model.predict(X_train)\n",
    "\n",
    "# Evaluate using mean_squared_error with squared=False to get RMSE\n",
    "baseline_rmse = mean_squared_error(y_train, y_pred_baseline, squared=False)\n",
    "\n",
    "# Display the RMSE to verify\n",
    "print(\"Baseline RMSE on Training Data:\", baseline_rmse)\n"
   ]
  },
  {
   "cell_type": "markdown",
   "metadata": {},
   "source": [
    "Your RMSE calculation should be around 15.98:"
   ]
  },
  {
   "cell_type": "code",
   "execution_count": 23,
   "metadata": {},
   "outputs": [],
   "source": [
    "assert round(baseline_rmse, 2) == 15.59"
   ]
  },
  {
   "cell_type": "markdown",
   "metadata": {},
   "source": [
    "This means that on the *training* data, our predictions are off by about 16 mmHg on average.\n",
    "\n",
    "But what about on *unseen* data?\n",
    "\n",
    "To stand in for true unseen data (and avoid making decisions based on this particular data split, therefore not using `X_test` or `y_test` yet), let's use cross-validation.\n",
    "\n",
    "### Fitting and Evaluating the Model with Cross Validation\n",
    "\n",
    "In the cell below, import `cross_val_score` ([documentation here](https://scikit-learn.org/stable/modules/generated/sklearn.model_selection.cross_val_score.html)) and call it with `baseline_model`, `X_train`, and `y_train`.\n",
    "\n",
    "For specific implementation reasons within the scikit-learn library, you'll need to use `scoring=\"neg_root_mean_squared_error\"`, which returns the RMSE values with their signs flipped to negative. Then we take the average and negate it at the end, so the number is directly comparable to the RMSE number above."
   ]
  },
  {
   "cell_type": "code",
   "execution_count": 18,
   "metadata": {},
   "outputs": [
    {
     "name": "stdout",
     "output_type": "stream",
     "text": [
      "Baseline RMSE with Cross-Validation: 15.573678572076378\n"
     ]
    }
   ],
   "source": [
    "# Import the relevant function\n",
    "from sklearn.model_selection import cross_val_score\n",
    "\n",
    "# Get the cross-validated scores for our baseline model\n",
    "baseline_cv = cross_val_score(baseline_model, X_train, y_train, cv=5, scoring=\"neg_root_mean_squared_error\")\n",
    "\n",
    "# Calculate the average of the cross-validated scores and negate it to get the RMSE\n",
    "baseline_cv_rmse = -baseline_cv.mean()\n",
    "\n",
    "# Display the average RMSE to verify\n",
    "print(\"Baseline RMSE with Cross-Validation:\", baseline_cv_rmse)\n"
   ]
  },
  {
   "cell_type": "markdown",
   "metadata": {},
   "source": [
    "The averaged RMSE for the cross-validated scores should be around 15.95:"
   ]
  },
  {
   "cell_type": "code",
   "execution_count": 21,
   "metadata": {},
   "outputs": [],
   "source": [
    "assert round(baseline_cv_rmse, 2) == 15.57"
   ]
  },
  {
   "cell_type": "markdown",
   "metadata": {},
   "source": [
    "### Analysis of Baseline Model\n",
    "\n",
    "So, we got an RMSE of about 16 for both the training data and the validation data. RMSE is a form of *error*, so this means the performance is somewhat better on the validation data than the training data. (This is a bit unusual — normally we expect to see better scores on the training data, but maybe there are some outliers or other reasons that this particular split has this result.)\n",
    "\n",
    "Referring back to the chart above, both errors mean that on average we would expect to mix up someone with stage 1 vs. stage 2 hypertension, but not someone with normal blood pressure vs. critical hypertension. So it appears that the features we have might be predictive enough to be useful.\n",
    "\n",
    "Are we overfitting? Underfitting?\n",
    "\n",
    "---\n",
    "\n",
    "<details>\n",
    "    <summary style=\"cursor: pointer\"><b>Answer (click to reveal)</b></summary>\n",
    "\n",
    "The RMSE values for the training data and test data are fairly close to each other and the validation score is actually slightly better than the training score, so we can assume that we are not overfitting.\n",
    "\n",
    "It seems like our model has some room for improvement, but without further investigation it's impossible to know whether we are underfitting, or there is just irreducible error present. Maybe we are simply missing the features we would need to reduce error. (For example, we don't know anything about the diets of these study participants, and we know that diet can influence blood pressure.) But it's also possible that there is some reducible error, meaning we are currently underfitting.\n",
    "\n",
    "In the next step, we'll assume we *are* underfitting, and will attempt to reduce that underfitting by applying some polynomial features transformations to the data.\n",
    "    \n",
    "</details>"
   ]
  },
  {
   "cell_type": "markdown",
   "metadata": {},
   "source": [
    "## 3. Use `PolynomialFeatures` to Reduce Underfitting\n",
    "\n",
    "Comprehension check: does \"underfitting\" mean we have high *bias*, or high *variance*?\n",
    "\n",
    "---\n",
    "\n",
    "<details>\n",
    "    <summary style=\"cursor: pointer\"><b>Answer (click to reveal)</b></summary>\n",
    "\n",
    "Underfitting means high bias. While it's possible that your model will have both high bias and high variance at the same time, in general underfitting means that there is additional information in the data that your model currently isn't picking up on, so you are getting higher error metrics than necessary.\n",
    "    \n",
    "</details>\n",
    "\n",
    "In some model algorithms (e.g. k-nearest neighbors) there are hyperparameters we can adjust so that the model is more flexible and can pick up on additional information in the data. In this case, since we are using linear regression, let's instead perform some feature engineering with `PolynomialFeatures`.\n",
    "\n",
    "### Creating `PolynomialFeatures` Transformer, Fitting and Transforming `X_train`\n",
    "\n",
    "In the cell below, instantiate a `PolynomialFeatures` transformer with default arguments (i.e. just `PolynomialFeatures()`). Documentation for `PolynomialFeatures` can be found [here](https://scikit-learn.org/stable/modules/generated/sklearn.preprocessing.PolynomialFeatures.html).\n",
    "\n",
    "Then fit the transformer on `X_train` and create a new `X_train_poly` matrix by transforming `X_train`."
   ]
  },
  {
   "cell_type": "code",
   "execution_count": 24,
   "metadata": {},
   "outputs": [
    {
     "name": "stdout",
     "output_type": "stream",
     "text": [
      "Original X_train shape: (179, 5)\n",
      "Transformed X_train_poly shape: (179, 21)\n"
     ]
    }
   ],
   "source": [
    "# Import the relevant class\n",
    "from sklearn.preprocessing import PolynomialFeatures\n",
    "\n",
    "# Instantiate polynomial features transformer\n",
    "poly = PolynomialFeatures()\n",
    "\n",
    "# Fit transformer on entire X_train\n",
    "poly.fit(X_train)\n",
    "\n",
    "# Create transformed data matrix by transforming X_train\n",
    "X_train_poly = poly.transform(X_train)\n",
    "\n",
    "# Display the shape of the transformed data matrix to verify\n",
    "print(\"Original X_train shape:\", X_train.shape)\n",
    "print(\"Transformed X_train_poly shape:\", X_train_poly.shape)\n"
   ]
  },
  {
   "cell_type": "markdown",
   "metadata": {},
   "source": [
    "Check that `poly` was instantiated correctly, and `X_train_poly` has the correct shape:"
   ]
  },
  {
   "cell_type": "code",
   "execution_count": 26,
   "metadata": {},
   "outputs": [],
   "source": [
    "assert type(poly) == PolynomialFeatures\n",
    "\n",
    "assert X_train_poly.shape == (179, 21)"
   ]
  },
  {
   "cell_type": "markdown",
   "metadata": {},
   "source": [
    "### Fitting and Evaluating the Model on the Transformed Training Set\n",
    "\n",
    "In the cell below, fit the `baseline_model` on `X_train_poly` and `y_train`, then find the RMSE using the same technique you used in Step 2."
   ]
  },
  {
   "cell_type": "code",
   "execution_count": 27,
   "metadata": {},
   "outputs": [
    {
     "name": "stdout",
     "output_type": "stream",
     "text": [
      "Polynomial Features RMSE on Training Data: 14.821659060607525\n"
     ]
    },
    {
     "name": "stderr",
     "output_type": "stream",
     "text": [
      "C:\\Users\\svijayaraghavan\\AppData\\Local\\anaconda3\\Lib\\site-packages\\sklearn\\metrics\\_regression.py:483: FutureWarning: 'squared' is deprecated in version 1.4 and will be removed in 1.6. To calculate the root mean squared error, use the function'root_mean_squared_error'.\n",
      "  warnings.warn(\n"
     ]
    }
   ],
   "source": [
    "# Fit baseline_model on the transformed training set\n",
    "baseline_model.fit(X_train_poly, y_train)\n",
    "\n",
    "# Make predictions on the transformed training set\n",
    "y_pred_poly = baseline_model.predict(X_train_poly)\n",
    "\n",
    "# Find the RMSE on the full X_train_poly and y_train\n",
    "poly_rmse = mean_squared_error(y_train, y_pred_poly, squared=False)\n",
    "\n",
    "# Display the RMSE to verify\n",
    "print(\"Polynomial Features RMSE on Training Data:\", poly_rmse)\n"
   ]
  },
  {
   "cell_type": "markdown",
   "metadata": {},
   "source": [
    "The new RMSE should be about 15.07:"
   ]
  },
  {
   "cell_type": "code",
   "execution_count": 28,
   "metadata": {},
   "outputs": [],
   "source": [
    "assert round(poly_rmse, 2) == 14.82"
   ]
  },
  {
   "cell_type": "markdown",
   "metadata": {},
   "source": [
    "### Fitting and Evaluating the Model with Cross Validation\n",
    "\n",
    "In the cell below, use `cross_val_score` to find an averaged cross-validated RMSE using the same technique you used in Step 2."
   ]
  },
  {
   "cell_type": "code",
   "execution_count": 29,
   "metadata": {},
   "outputs": [
    {
     "name": "stdout",
     "output_type": "stream",
     "text": [
      "Polynomial Features RMSE with Cross-Validation: 17.95095623795973\n"
     ]
    }
   ],
   "source": [
    "# Get the cross-validated scores for our transformed features\n",
    "poly_cv = cross_val_score(baseline_model, X_train_poly, y_train, cv=5, scoring=\"neg_root_mean_squared_error\")\n",
    "\n",
    "# Calculate the average of the cross-validated scores and negate it to get the RMSE\n",
    "poly_cv_rmse = -poly_cv.mean()\n",
    "\n",
    "# Display the average RMSE to verify\n",
    "print(\"Polynomial Features RMSE with Cross-Validation:\", poly_cv_rmse)\n"
   ]
  },
  {
   "cell_type": "markdown",
   "metadata": {},
   "source": [
    "The cross-validated RMSE should be about 17.74:"
   ]
  },
  {
   "cell_type": "code",
   "execution_count": 30,
   "metadata": {},
   "outputs": [],
   "source": [
    "assert round(poly_cv_rmse, 2) == 17.95"
   ]
  },
  {
   "cell_type": "markdown",
   "metadata": {},
   "source": [
    "### Analysis of `PolynomialFeatures` Transformation\n",
    "\n",
    "The cell below displays the baseline and transformed values for the full training set vs. the cross-validated average:"
   ]
  },
  {
   "cell_type": "code",
   "execution_count": 31,
   "metadata": {},
   "outputs": [
    {
     "name": "stdout",
     "output_type": "stream",
     "text": [
      "Baseline Model\n",
      "Train RMSE: 15.587267103496318\n",
      "Validation RMSE: 15.573678572076378\n",
      "\n",
      "Model with Polynomial Transformation\n",
      "Train RMSE: 14.821659060607525\n",
      "Validation RMSE: 17.95095623795973\n"
     ]
    }
   ],
   "source": [
    "print(\"Baseline Model\")\n",
    "print(\"Train RMSE:\", baseline_rmse)\n",
    "print(\"Validation RMSE:\", baseline_cv_rmse)\n",
    "print()\n",
    "print(\"Model with Polynomial Transformation\")\n",
    "print(\"Train RMSE:\", poly_rmse)\n",
    "print(\"Validation RMSE:\", poly_cv_rmse)"
   ]
  },
  {
   "cell_type": "markdown",
   "metadata": {},
   "source": [
    "So, what does this mean about the result of our polynomial features transformation? What was the impact on bias (underfitting)? What was the impact on variance (overfitting)?\n",
    "\n",
    "---\n",
    "\n",
    "<details>\n",
    "    <summary style=\"cursor: pointer\"><b>Answer (click to reveal)</b></summary>\n",
    "\n",
    "The polynomial features transformation did successfully reduce bias (reduce underfitting). We can tell because the RMSE decreased on the training dataset. However, it also increased variance (increased overfitting). We can tell because the RMSE increased on the validation dataset compared to the train dataset.\n",
    "\n",
    "Essentially this means that the polynomial features transformation gave our model the ability to pick up on more information from the training dataset, but some of that information was actually \"noise\" and not information that was useful for making predictions on unseen data.\n",
    "    \n",
    "</details>\n",
    "\n",
    "In the cell below, we plot the train vs. validation RMSE across various different degrees of `PolynomialFeatures`:"
   ]
  },
  {
   "cell_type": "code",
   "execution_count": 32,
   "metadata": {},
   "outputs": [
    {
     "name": "stderr",
     "output_type": "stream",
     "text": [
      "C:\\Users\\svijayaraghavan\\AppData\\Local\\anaconda3\\Lib\\site-packages\\sklearn\\metrics\\_regression.py:483: FutureWarning: 'squared' is deprecated in version 1.4 and will be removed in 1.6. To calculate the root mean squared error, use the function'root_mean_squared_error'.\n",
      "  warnings.warn(\n",
      "C:\\Users\\svijayaraghavan\\AppData\\Local\\anaconda3\\Lib\\site-packages\\sklearn\\metrics\\_regression.py:483: FutureWarning: 'squared' is deprecated in version 1.4 and will be removed in 1.6. To calculate the root mean squared error, use the function'root_mean_squared_error'.\n",
      "  warnings.warn(\n",
      "C:\\Users\\svijayaraghavan\\AppData\\Local\\anaconda3\\Lib\\site-packages\\sklearn\\metrics\\_regression.py:483: FutureWarning: 'squared' is deprecated in version 1.4 and will be removed in 1.6. To calculate the root mean squared error, use the function'root_mean_squared_error'.\n",
      "  warnings.warn(\n",
      "C:\\Users\\svijayaraghavan\\AppData\\Local\\anaconda3\\Lib\\site-packages\\sklearn\\metrics\\_regression.py:483: FutureWarning: 'squared' is deprecated in version 1.4 and will be removed in 1.6. To calculate the root mean squared error, use the function'root_mean_squared_error'.\n",
      "  warnings.warn(\n",
      "C:\\Users\\svijayaraghavan\\AppData\\Local\\anaconda3\\Lib\\site-packages\\sklearn\\metrics\\_regression.py:483: FutureWarning: 'squared' is deprecated in version 1.4 and will be removed in 1.6. To calculate the root mean squared error, use the function'root_mean_squared_error'.\n",
      "  warnings.warn(\n",
      "C:\\Users\\svijayaraghavan\\AppData\\Local\\anaconda3\\Lib\\site-packages\\sklearn\\metrics\\_regression.py:483: FutureWarning: 'squared' is deprecated in version 1.4 and will be removed in 1.6. To calculate the root mean squared error, use the function'root_mean_squared_error'.\n",
      "  warnings.warn(\n",
      "C:\\Users\\svijayaraghavan\\AppData\\Local\\anaconda3\\Lib\\site-packages\\sklearn\\metrics\\_regression.py:483: FutureWarning: 'squared' is deprecated in version 1.4 and will be removed in 1.6. To calculate the root mean squared error, use the function'root_mean_squared_error'.\n",
      "  warnings.warn(\n"
     ]
    },
    {
     "data": {
      "image/png": "[encoded data removed]",
      "text/plain": [
       "<Figure size 1300x500 with 2 Axes>"
      ]
     },
     "metadata": {},
     "output_type": "display_data"
    }
   ],
   "source": [
    "# Create lists of RMSE values\n",
    "train_rmse = []\n",
    "val_rmse = []\n",
    "\n",
    "# Create list of degrees we want to consider\n",
    "degrees = list(range(1,8))\n",
    "\n",
    "for degree in degrees:\n",
    "    # Create transformer of relevant degree and transform X_train\n",
    "    poly = PolynomialFeatures(degree)\n",
    "    X_train_poly = poly.fit_transform(X_train)\n",
    "    baseline_model.fit(X_train_poly, y_train)\n",
    "    \n",
    "    # RMSE for training data\n",
    "    y_pred_poly = baseline_model.predict(X_train_poly)\n",
    "    train_rmse.append(mean_squared_error(y_train, y_pred_poly, squared=False))\n",
    "    \n",
    "    # RMSE for validation data\n",
    "    poly_cv = cross_val_score(baseline_model, X_train_poly, y_train, scoring=\"neg_root_mean_squared_error\")\n",
    "    val_rmse.append(-(poly_cv.mean()))\n",
    "\n",
    "# Set up plot\n",
    "import matplotlib.pyplot as plt\n",
    "fig, (ax1, ax2) = plt.subplots(ncols=2, figsize=(13,5))\n",
    "\n",
    "# Plot RMSE for training data\n",
    "ax1.plot(degrees, train_rmse)\n",
    "ax1.set_title(\"Training Data\")\n",
    "\n",
    "# Plot RMSE for validation data\n",
    "ax2.plot(degrees, val_rmse, color=\"orange\")\n",
    "ax2.set_title(\"Validation Data\")\n",
    "\n",
    "# Shared attributes for plots\n",
    "for ax in (ax1, ax2):\n",
    "    ax.set_xticks(degrees)\n",
    "    ax.set_xlabel(\"Polynomial Degree\")\n",
    "    ax.set_ylabel(\"RMSE\")"
   ]
  },
  {
   "cell_type": "markdown",
   "metadata": {},
   "source": [
    "Based on the above graphs, let's plan to use a polynomial degree of 5. Why? Because that is where the RMSE for the training data has dropped down to essentially zero, meaning we are close to perfectly overfitting on the training data.\n",
    "\n",
    "(This is a design decision where there isn't always a single right answer. Later we will introduce a tool called \"grid search\" that will allow you to tune multiple aspects of the model at once instead of having to choose one step at a time like this.)"
   ]
  },
  {
   "cell_type": "code",
   "execution_count": 33,
   "metadata": {},
   "outputs": [
    {
     "name": "stdout",
     "output_type": "stream",
     "text": [
      "Final Polynomial Features RMSE on Training Data: 6.835308887891083e-07\n",
      "Final Polynomial Features RMSE with Cross-Validation: 13647.636310497342\n"
     ]
    },
    {
     "name": "stderr",
     "output_type": "stream",
     "text": [
      "C:\\Users\\svijayaraghavan\\AppData\\Local\\anaconda3\\Lib\\site-packages\\sklearn\\metrics\\_regression.py:483: FutureWarning: 'squared' is deprecated in version 1.4 and will be removed in 1.6. To calculate the root mean squared error, use the function'root_mean_squared_error'.\n",
      "  warnings.warn(\n"
     ]
    }
   ],
   "source": [
    "# Create transformer of relevant degree and transform X_train (fit baseline model)\n",
    "poly = PolynomialFeatures(degree=5)\n",
    "X_train_poly = poly.fit_transform(X_train)\n",
    "baseline_model.fit(X_train_poly, y_train)\n",
    "\n",
    "# RMSE for training data\n",
    "y_pred_poly = baseline_model.predict(X_train_poly)\n",
    "final_poly_rmse = mean_squared_error(y_train, y_pred_poly, squared=False)\n",
    "\n",
    "# RMSE for validation data\n",
    "poly_cv = cross_val_score(baseline_model, X_train_poly, y_train, cv=5, scoring=\"neg_root_mean_squared_error\")\n",
    "final_poly_cv_rmse = -poly_cv.mean()\n",
    "\n",
    "# Display the final RMSE values\n",
    "print(\"Final Polynomial Features RMSE on Training Data:\", final_poly_rmse)\n",
    "print(\"Final Polynomial Features RMSE with Cross-Validation:\", final_poly_cv_rmse)"
   ]
  },
  {
   "cell_type": "code",
   "execution_count": 34,
   "metadata": {},
   "outputs": [
    {
     "name": "stdout",
     "output_type": "stream",
     "text": [
      "Baseline Model\n",
      "Train RMSE: 15.587267103496318\n",
      "Validation RMSE: 15.573678572076378\n",
      "\n",
      "Model with Polynomial Transformation (Degree 5)\n",
      "Train RMSE: 6.835308887891083e-07\n",
      "Validation RMSE: 13647.636310497342\n"
     ]
    }
   ],
   "source": [
    "print(\"Baseline Model\")\n",
    "print(\"Train RMSE:\", baseline_rmse)\n",
    "print(\"Validation RMSE:\", baseline_cv_rmse)\n",
    "print()\n",
    "print(\"Model with Polynomial Transformation (Degree 5)\")\n",
    "print(\"Train RMSE:\", final_poly_rmse)\n",
    "print(\"Validation RMSE:\", final_poly_cv_rmse)"
   ]
  },
  {
   "cell_type": "markdown",
   "metadata": {},
   "source": [
    "We have a dramatically improved train RMSE (approximately 16 down to 0) and a dramatically worsened validation RMSE (approximately 16 up to 17,000). At this point we are clearly overfitting, but we have successfully reduced the underfitting on the training dataset.\n",
    "\n",
    "In the next step, let's apply a technique to address this overfitting."
   ]
  },
  {
   "cell_type": "markdown",
   "metadata": {},
   "source": [
    "## 4. Use Regularization to Reduce Overfitting\n",
    "\n",
    "Let's use regularization to address this overfitting, specifically using the `Ridge` model from scikit-learn ([documentation here](https://scikit-learn.org/stable/modules/generated/sklearn.linear_model.Ridge.html)), which uses the L2 norm.\n",
    "\n",
    "### Scaling the Data\n",
    "\n",
    "Because L2 regularization is distance-based, we need to scale our data before passing it into this model. In the cell below, instantiate a `StandardScaler` ([documentation here](https://scikit-learn.org/stable/modules/generated/sklearn.preprocessing.StandardScaler.html)) and fit then transform the full `X_train_poly`."
   ]
  },
  {
   "cell_type": "code",
   "execution_count": 35,
   "metadata": {},
   "outputs": [
    {
     "name": "stdout",
     "output_type": "stream",
     "text": [
      "Transformed X_train_poly shape: (179, 252)\n",
      "Scaled X_train shape: (179, 252)\n"
     ]
    }
   ],
   "source": [
    "# Import the relevant class\n",
    "from sklearn.preprocessing import StandardScaler\n",
    "\n",
    "# Instantiate the scaler\n",
    "scaler = StandardScaler()\n",
    "\n",
    "# Fit the scaler on X_train_poly\n",
    "scaler.fit(X_train_poly)\n",
    "\n",
    "# Transform the data and create a new matrix\n",
    "X_train_scaled = scaler.transform(X_train_poly)\n",
    "\n",
    "# Display the shape of the scaled data matrix to verify\n",
    "print(\"Transformed X_train_poly shape:\", X_train_poly.shape)\n",
    "print(\"Scaled X_train shape:\", X_train_scaled.shape)\n"
   ]
  },
  {
   "cell_type": "markdown",
   "metadata": {},
   "source": [
    "The scaled data should have the same shape as `X_train_poly` but the values should be different:"
   ]
  },
  {
   "cell_type": "code",
   "execution_count": 37,
   "metadata": {},
   "outputs": [],
   "source": [
    "assert X_train_scaled.shape == X_train_poly.shape\n",
    "assert X_train_scaled[0][0] != X_train_poly[0][0]"
   ]
  },
  {
   "cell_type": "markdown",
   "metadata": {},
   "source": [
    "### Fitting a Ridge Model\n",
    "\n",
    "In the cell below, instantiate a `Ridge` model with `random_state=42`, then fit it on `X_train_scaled` and `y_train`."
   ]
  },
  {
   "cell_type": "code",
   "execution_count": 38,
   "metadata": {},
   "outputs": [
    {
     "name": "stdout",
     "output_type": "stream",
     "text": [
      "Ridge Model Coefficients: [ 0.00000000e+00  3.10905040e+00 -1.04710526e+00 -6.51014107e+00\n",
      " -1.57644648e+00  1.64608486e-01  4.42047044e+00  2.82861401e+00\n",
      " -3.26268346e+00 -2.42998245e-01  1.28280443e+00 -2.50630816e+00\n",
      " -1.74081236e+00 -1.03526438e+00  3.94125612e-01 -3.16164405e+00\n",
      " -9.37942670e-01 -3.94868773e+00  8.40814259e-01  5.80030425e-01\n",
      "  2.57429000e-02  4.15325643e+00  3.45427316e+00 -2.14421566e+00\n",
      "  1.27236291e+00  9.96154701e-01  7.54291118e-01  3.35407937e-02\n",
      "  1.18913408e+00  2.16673263e+00 -2.89226347e+00 -2.17629207e+00\n",
      " -2.42221192e+00 -1.01495136e+00 -5.44170969e-01  1.05465403e+00\n",
      " -2.53278107e+00 -1.61160287e+00 -2.51728263e+00 -4.75475322e-01\n",
      " -9.92737996e-01 -5.42981824e-01 -5.61559269e-01 -1.05633792e+00\n",
      "  1.07228152e+00  7.30804738e-01 -1.37630526e+00  4.97488641e-01\n",
      " -2.50401143e+00  1.73182252e+00  1.41306321e-01 -2.86721643e+00\n",
      "  1.68465547e+00  3.19637866e+00  6.64627735e-01  3.13173355e-01\n",
      "  3.78048051e+00  3.09089484e+00 -1.98335976e+00  1.67554184e+00\n",
      "  2.69296199e-02  1.56111319e+00 -4.98853733e-01  1.67052317e+00\n",
      "  1.08714731e+00 -4.05174131e+00 -2.77637984e+00 -3.18493036e+00\n",
      " -6.09013493e-01 -1.11015107e+00 -6.84091086e-01 -4.60075597e-01\n",
      "  3.01726732e-01 -5.86111166e-02  1.42243854e+00  3.96077744e-01\n",
      "  4.26582256e-01  8.00458905e-01  2.36042044e-01  1.81228393e+00\n",
      "  2.08142341e+00 -6.72632507e-01 -6.00863512e-01 -1.39943294e+00\n",
      " -6.86443817e-01 -9.27405472e-01 -9.79071067e-01 -1.06665968e+00\n",
      "  5.63190754e-02 -1.17268653e-01  2.15223865e+00 -2.67322014e-01\n",
      " -7.65149458e-01 -2.49538824e+00 -9.19177488e-02 -8.83560211e-01\n",
      " -1.50062876e+00 -8.19554263e-02 -3.09598012e+00  1.35391233e-03\n",
      "  5.21314964e-01 -9.06163017e-01 -2.74093318e-01 -4.07753060e-01\n",
      " -5.16621041e-01  8.64080964e-01 -2.29550918e-01 -1.89976480e+00\n",
      "  1.55481503e+00  1.79416878e+00  7.31140970e-01 -1.27023258e+00\n",
      "  6.56234252e-01 -1.61242077e+00  1.97116302e+00  7.03101775e-01\n",
      " -2.37264813e+00  2.24558942e+00  2.91652143e+00  1.19255657e-01\n",
      " -2.11728675e+00  1.07327307e+00  4.49287302e+00  3.44977312e+00\n",
      "  3.83363607e-01  1.08927452e+00  4.25712123e+00  3.32989849e+00\n",
      " -1.08949024e+00  2.25691290e+00 -1.65648481e-01  1.80337385e+00\n",
      " -8.54136911e-01  1.73849878e+00  6.33087685e-02 -4.53933094e+00\n",
      " -2.76715483e+00 -3.97560893e+00 -6.24063259e-02 -1.58134608e+00\n",
      " -2.50393480e+00  2.52649910e-02 -3.05628443e-01  5.61230152e-01\n",
      "  4.79118119e-01 -1.34504320e+00 -6.77822386e-01 -1.06729898e+00\n",
      "  3.74964965e-01  3.56046452e-01 -1.50920612e-01 -3.31169731e+00\n",
      " -3.22311599e+00 -3.62815884e+00 -2.73438430e+00 -3.15291013e+00\n",
      " -3.00992275e+00 -1.82944317e+00 -1.82025931e+00 -2.22215855e+00\n",
      " -6.90497543e-01  4.24991164e-01  6.66273369e-01 -7.50871327e-01\n",
      "  1.20682469e+00  1.07949732e+00  3.13376307e-01  1.55066066e+00\n",
      " -9.87107428e-01  1.54239575e+00  1.98212883e+00  1.35853950e+00\n",
      "  1.13817687e+00  1.45936263e+00  4.29981116e-01  1.75649519e+00\n",
      "  1.56116362e+00 -8.58723384e-01  1.93245500e+00  2.35918307e+00\n",
      "  2.55071508e+00  1.12835752e+00  1.26318259e+00  5.50451558e-01\n",
      "  9.80468599e-01  8.02901648e-01  1.03244669e-01  1.01436462e-01\n",
      "  1.05279901e+00  2.89171910e-01  8.97519275e-01 -1.49070524e+00\n",
      "  1.12912384e+00  1.03808861e+00  9.25177638e-01  4.16126602e+00\n",
      "  4.43779826e+00  2.18861895e+00  5.03810569e-02  2.41657182e+00\n",
      "  3.86260913e-01 -8.51379515e-01  1.10180935e+00 -3.01515401e+00\n",
      "  3.17387513e-01  1.37754061e+00 -9.56660028e-01 -1.15160105e+00\n",
      "  7.79591247e-02 -2.23452731e+00  3.41191653e-01  5.68789365e-01\n",
      " -4.35266121e+00 -1.74994779e-01  1.36735894e+00  8.59340435e-01\n",
      " -1.94249172e+00 -9.96693350e-01 -8.76490726e-01 -8.21983668e-01\n",
      "  4.64454871e-01 -4.83843379e-01 -1.64560879e+00  1.23003651e+00\n",
      "  1.22285066e+00 -2.57489358e-01 -3.65298530e+00  1.12134774e+00\n",
      "  2.72271896e+00  1.73284658e+00  8.30324131e-01 -2.81052160e+00\n",
      " -7.02324056e-01 -2.09469011e+00  8.61209295e-01  2.32012211e-01\n",
      " -2.16302384e+00  1.56237798e+00  2.33209492e+00  1.67490559e-01\n",
      " -2.28571134e+00  1.08515325e+00  3.82457191e+00  2.78504373e+00\n",
      " -2.65825428e-01 -1.21683618e+00 -8.22365010e-01  4.26232327e+00\n",
      "  5.33786117e+00  2.74691742e+00  3.09413130e-01  2.39644732e+00]\n"
     ]
    }
   ],
   "source": [
    "# Import the relevant class\n",
    "from sklearn.linear_model import Ridge\n",
    "\n",
    "# Instantiate the model with random_state=42\n",
    "ridge_model = Ridge(random_state=42)\n",
    "\n",
    "# Fit the model on the scaled training data\n",
    "ridge_model.fit(X_train_scaled, y_train)\n",
    "\n",
    "# Display the coefficients to verify\n",
    "print(\"Ridge Model Coefficients:\", ridge_model.coef_)\n"
   ]
  },
  {
   "cell_type": "markdown",
   "metadata": {},
   "source": [
    "### Metrics for Ridge Model\n",
    "\n",
    "Now, find the train and cross-validated RMSE values, and assign them to `ridge_rmse` and `ridge_cv_rmse` respectively. You can refer back to previous steps to remember how to do this! Remember to use `ridge_model` and `X_train_scaled`."
   ]
  },
  {
   "cell_type": "code",
   "execution_count": 39,
   "metadata": {},
   "outputs": [
    {
     "name": "stdout",
     "output_type": "stream",
     "text": [
      "Train RMSE: 14.945313448173065\n",
      "Validation RMSE: 16.09629737615258\n"
     ]
    },
    {
     "name": "stderr",
     "output_type": "stream",
     "text": [
      "C:\\Users\\svijayaraghavan\\AppData\\Local\\anaconda3\\Lib\\site-packages\\sklearn\\metrics\\_regression.py:483: FutureWarning: 'squared' is deprecated in version 1.4 and will be removed in 1.6. To calculate the root mean squared error, use the function'root_mean_squared_error'.\n",
      "  warnings.warn(\n"
     ]
    }
   ],
   "source": [
    "# Import necessary libraries\n",
    "from sklearn.metrics import mean_squared_error\n",
    "from sklearn.model_selection import cross_val_score\n",
    "\n",
    "# RMSE for training data\n",
    "y_pred_ridge = ridge_model.predict(X_train_scaled)\n",
    "ridge_rmse = mean_squared_error(y_train, y_pred_ridge, squared=False)\n",
    "\n",
    "# RMSE for validation data\n",
    "ridge_cv = cross_val_score(ridge_model, X_train_scaled, y_train, cv=5, scoring=\"neg_root_mean_squared_error\")\n",
    "ridge_cv_rmse = -ridge_cv.mean()\n",
    "\n",
    "# Display the RMSE values\n",
    "print(\"Train RMSE:\", ridge_rmse)\n",
    "print(\"Validation RMSE:\", ridge_cv_rmse)\n"
   ]
  },
  {
   "cell_type": "markdown",
   "metadata": {},
   "source": [
    "Your train RMSE should be about 15.24, and validation RMSE should be about 16.05:"
   ]
  },
  {
   "cell_type": "code",
   "execution_count": 41,
   "metadata": {},
   "outputs": [],
   "source": [
    "\n",
    "assert round(ridge_rmse, 2) == 14.95\n",
    "assert round(ridge_cv_rmse, 2) == 16.10"
   ]
  },
  {
   "cell_type": "markdown",
   "metadata": {},
   "source": [
    "### Analysis of Model with Regularization\n",
    "\n",
    "The following cell shows metrics for each model so far:"
   ]
  },
  {
   "cell_type": "code",
   "execution_count": 42,
   "metadata": {},
   "outputs": [
    {
     "name": "stdout",
     "output_type": "stream",
     "text": [
      "Baseline Model\n",
      "Train RMSE: 15.587267103496318\n",
      "Validation RMSE: 15.573678572076378\n",
      "\n",
      "Model with Polynomial Transformation (Degree 5)\n",
      "Train RMSE: 6.835308887891083e-07\n",
      "Validation RMSE: 13647.636310497342\n",
      "\n",
      "Model with Polynomial Transformation + Regularization\n",
      "Train RMSE: 14.945313448173065\n",
      "Validation RMSE: 16.09629737615258\n"
     ]
    }
   ],
   "source": [
    "print(\"Baseline Model\")\n",
    "print(\"Train RMSE:\", baseline_rmse)\n",
    "print(\"Validation RMSE:\", baseline_cv_rmse)\n",
    "print()\n",
    "print(\"Model with Polynomial Transformation (Degree 5)\")\n",
    "print(\"Train RMSE:\", final_poly_rmse)\n",
    "print(\"Validation RMSE:\", final_poly_cv_rmse)\n",
    "print()\n",
    "print(\"Model with Polynomial Transformation + Regularization\")\n",
    "print(\"Train RMSE:\", ridge_rmse)\n",
    "print(\"Validation RMSE:\", ridge_cv_rmse)"
   ]
  },
  {
   "cell_type": "markdown",
   "metadata": {},
   "source": [
    "Did we successfully reduce overfitting? Which model is the best model so far?\n",
    "\n",
    "---\n",
    "\n",
    "<details>\n",
    "    <summary style=\"cursor: pointer\"><b>Answer (click to reveal)</b></summary>\n",
    "\n",
    "Compared to the model with the polynomial transformation, yes, we successfully reduced overfitting. We can tell because the gap between the train and validation RMSE got a lot smaller.\n",
    "\n",
    "At this point, our best model is actually still the baseline model. Even though we have a lower RMSE for the training data with both the model with polynomial transformation and the model with regularization added, the validation RMSE was still lowest for the baseline model.\n",
    "    \n",
    "</details>\n",
    "\n",
    "Let's try adding stronger regularization penalties, to see if we can reduce the overfitting a bit further while still keeping the improvements to underfitting that we got from the polynomial features transformation."
   ]
  },
  {
   "cell_type": "code",
   "execution_count": 43,
   "metadata": {},
   "outputs": [
    {
     "name": "stderr",
     "output_type": "stream",
     "text": [
      "C:\\Users\\svijayaraghavan\\AppData\\Local\\anaconda3\\Lib\\site-packages\\sklearn\\metrics\\_regression.py:483: FutureWarning: 'squared' is deprecated in version 1.4 and will be removed in 1.6. To calculate the root mean squared error, use the function'root_mean_squared_error'.\n",
      "  warnings.warn(\n",
      "C:\\Users\\svijayaraghavan\\AppData\\Local\\anaconda3\\Lib\\site-packages\\sklearn\\metrics\\_regression.py:483: FutureWarning: 'squared' is deprecated in version 1.4 and will be removed in 1.6. To calculate the root mean squared error, use the function'root_mean_squared_error'.\n",
      "  warnings.warn(\n",
      "C:\\Users\\svijayaraghavan\\AppData\\Local\\anaconda3\\Lib\\site-packages\\sklearn\\metrics\\_regression.py:483: FutureWarning: 'squared' is deprecated in version 1.4 and will be removed in 1.6. To calculate the root mean squared error, use the function'root_mean_squared_error'.\n",
      "  warnings.warn(\n",
      "C:\\Users\\svijayaraghavan\\AppData\\Local\\anaconda3\\Lib\\site-packages\\sklearn\\metrics\\_regression.py:483: FutureWarning: 'squared' is deprecated in version 1.4 and will be removed in 1.6. To calculate the root mean squared error, use the function'root_mean_squared_error'.\n",
      "  warnings.warn(\n",
      "C:\\Users\\svijayaraghavan\\AppData\\Local\\anaconda3\\Lib\\site-packages\\sklearn\\metrics\\_regression.py:483: FutureWarning: 'squared' is deprecated in version 1.4 and will be removed in 1.6. To calculate the root mean squared error, use the function'root_mean_squared_error'.\n",
      "  warnings.warn(\n",
      "C:\\Users\\svijayaraghavan\\AppData\\Local\\anaconda3\\Lib\\site-packages\\sklearn\\metrics\\_regression.py:483: FutureWarning: 'squared' is deprecated in version 1.4 and will be removed in 1.6. To calculate the root mean squared error, use the function'root_mean_squared_error'.\n",
      "  warnings.warn(\n",
      "C:\\Users\\svijayaraghavan\\AppData\\Local\\anaconda3\\Lib\\site-packages\\sklearn\\metrics\\_regression.py:483: FutureWarning: 'squared' is deprecated in version 1.4 and will be removed in 1.6. To calculate the root mean squared error, use the function'root_mean_squared_error'.\n",
      "  warnings.warn(\n",
      "C:\\Users\\svijayaraghavan\\AppData\\Local\\anaconda3\\Lib\\site-packages\\sklearn\\metrics\\_regression.py:483: FutureWarning: 'squared' is deprecated in version 1.4 and will be removed in 1.6. To calculate the root mean squared error, use the function'root_mean_squared_error'.\n",
      "  warnings.warn(\n",
      "C:\\Users\\svijayaraghavan\\AppData\\Local\\anaconda3\\Lib\\site-packages\\sklearn\\metrics\\_regression.py:483: FutureWarning: 'squared' is deprecated in version 1.4 and will be removed in 1.6. To calculate the root mean squared error, use the function'root_mean_squared_error'.\n",
      "  warnings.warn(\n"
     ]
    },
    {
     "data": {
      "image/png": "[encoded data removed]",
      "text/plain": [
       "<Figure size 600x600 with 1 Axes>"
      ]
     },
     "metadata": {},
     "output_type": "display_data"
    }
   ],
   "source": [
    "\n",
    "# Create lists of RMSE values\n",
    "train_rmse = []\n",
    "val_rmse = []\n",
    "\n",
    "# Create list of alphas we want to consider\n",
    "alphas = [1, 10, 25, 50, 75, 100, 125, 250, 500]\n",
    "\n",
    "for alpha in alphas:\n",
    "    # Fit a model with a given regularization penalty\n",
    "    model = Ridge(random_state=42, alpha=alpha)\n",
    "    model.fit(X_train_scaled, y_train)\n",
    "    \n",
    "    # RMSE for training data\n",
    "    y_pred_ridge = model.predict(X_train_scaled)\n",
    "    train_rmse.append(mean_squared_error(y_train, y_pred_ridge, squared=False))\n",
    "    \n",
    "    # RMSE for validation data\n",
    "    ridge_cv = cross_val_score(model, X_train_scaled, y_train, scoring=\"neg_root_mean_squared_error\")\n",
    "    val_rmse.append(-(ridge_cv.mean()))\n",
    "\n",
    "# Plot train vs. validation RMSE\n",
    "fig, ax = plt.subplots(figsize=(6,6))\n",
    "ax.plot(alphas, train_rmse, label=\"Training Data\")\n",
    "ax.plot(alphas, val_rmse, label=\"Validation Data\")\n",
    "ax.set_xlabel(\"Alpha (Regularization Penalty)\")\n",
    "ax.set_ylabel(\"RMSE\")\n",
    "ax.legend();"
   ]
  },
  {
   "cell_type": "markdown",
   "metadata": {},
   "source": [
    "(This time both are plotted on the same axes because the RMSE has the same order of magnitude.)\n",
    "\n",
    "As we increase the alpha (regularization penalty) along the x-axis, first we can see a big drop in the validation RMSE, then as we keep penalizing more, eventually the RMSE for both the training and validation data starts increasing (meaning we are starting to underfit again).\n",
    "\n",
    "The code below finds the best alpha value from our list, i.e. the alpha that results in the lowest RMSE for the validation data:"
   ]
  },
  {
   "cell_type": "code",
   "execution_count": 44,
   "metadata": {},
   "outputs": [
    {
     "name": "stdout",
     "output_type": "stream",
     "text": [
      "Lowest RMSE: 15.372246115701305\n",
      "Best alpha: 125\n"
     ]
    }
   ],
   "source": [
    "lowest_rmse = min(val_rmse)\n",
    "print(\"Lowest RMSE:\", lowest_rmse)\n",
    "\n",
    "best_alpha = alphas[val_rmse.index(lowest_rmse)]\n",
    "print(\"Best alpha:\", best_alpha)"
   ]
  },
  {
   "cell_type": "markdown",
   "metadata": {},
   "source": [
    "Let's build a final model using that alpha value and compare it to our previous models:"
   ]
  },
  {
   "cell_type": "code",
   "execution_count": 45,
   "metadata": {},
   "outputs": [
    {
     "name": "stdout",
     "output_type": "stream",
     "text": [
      "Final Model Train RMSE: 15.496204896016716\n",
      "Final Model Validation RMSE: 15.372246115701305\n"
     ]
    },
    {
     "name": "stderr",
     "output_type": "stream",
     "text": [
      "C:\\Users\\svijayaraghavan\\AppData\\Local\\anaconda3\\Lib\\site-packages\\sklearn\\metrics\\_regression.py:483: FutureWarning: 'squared' is deprecated in version 1.4 and will be removed in 1.6. To calculate the root mean squared error, use the function'root_mean_squared_error'.\n",
      "  warnings.warn(\n"
     ]
    }
   ],
   "source": [
    "# Fit a model with the best alpha value\n",
    "final_model = Ridge(alpha=best_alpha, random_state=42)\n",
    "\n",
    "# Fit the model on the scaled training data\n",
    "final_model.fit(X_train_scaled, y_train)\n",
    "\n",
    "# RMSE for training data\n",
    "y_pred_final = final_model.predict(X_train_scaled)\n",
    "final_rmse = mean_squared_error(y_train, y_pred_final, squared=False)\n",
    "\n",
    "# RMSE for validation data\n",
    "final_cv = cross_val_score(final_model, X_train_scaled, y_train, cv=5, scoring=\"neg_root_mean_squared_error\")\n",
    "final_cv_rmse = -final_cv.mean()\n",
    "\n",
    "# Display the RMSE values\n",
    "print(\"Final Model Train RMSE:\", final_rmse)\n",
    "print(\"Final Model Validation RMSE:\", final_cv_rmse)\n"
   ]
  },
  {
   "cell_type": "code",
   "execution_count": 46,
   "metadata": {},
   "outputs": [
    {
     "name": "stdout",
     "output_type": "stream",
     "text": [
      "Baseline Model\n",
      "Train RMSE: 15.587267103496318\n",
      "Validation RMSE: 15.573678572076378\n",
      "\n",
      "Model with Polynomial Transformation (Degree 5)\n",
      "Train RMSE: 6.835308887891083e-07\n",
      "Validation RMSE: 13647.636310497342\n",
      "\n",
      "Final Model with Polynomial Transformation + Regularization\n",
      "Train RMSE: 15.496204896016716\n",
      "Validation RMSE: 15.372246115701305\n"
     ]
    }
   ],
   "source": [
    "print(\"Baseline Model\")\n",
    "print(\"Train RMSE:\", baseline_rmse)\n",
    "print(\"Validation RMSE:\", baseline_cv_rmse)\n",
    "print()\n",
    "print(\"Model with Polynomial Transformation (Degree 5)\")\n",
    "print(\"Train RMSE:\", final_poly_rmse)\n",
    "print(\"Validation RMSE:\", final_poly_cv_rmse)\n",
    "print()\n",
    "print(\"Final Model with Polynomial Transformation + Regularization\")\n",
    "print(\"Train RMSE:\", final_rmse)\n",
    "print(\"Validation RMSE:\", final_cv_rmse)"
   ]
  },
  {
   "cell_type": "markdown",
   "metadata": {},
   "source": [
    "### Choosing a Final Model\n",
    "\n",
    "While we have already labeled a model as `final_model` above, make sure you understand why: this is the model with the best (lowest) validation RMSE. We also improved the train RMSE somewhat as well, meaning that our modeling strategy has actually reduced both underfitting and overfitting!\n",
    "\n",
    "The impact of the changes made so far has been minimal, which makes sense given our business context. We are trying to predict blood pressure based on proxy measurements that leave out a lot of important information! But we still did see some improvement over the baseline by applying polynomial feature transformation and regularization."
   ]
  },
  {
   "cell_type": "markdown",
   "metadata": {},
   "source": [
    "## 5. Evaluate a Final Model on the Test Set\n",
    "\n",
    "Often our lessons leave out this step because we are focused on other concepts, but if you were to present your final model to stakeholders, it's important to perform one final analysis on truly unseen data to make sure you have a clear idea of how the model will perform in the field.\n",
    "\n",
    "### Instantiating the Final Model\n",
    "\n",
    "Unless you are using a model that is very slow to fit, it's a good idea to re-create it from scratch prior to the final evaluation. That way you avoid any artifacts of how you iterated on the model previously.\n",
    "\n",
    "In the cell below, instantiate a `Ridge` model with `random_state=42` and `alpha=100`."
   ]
  },
  {
   "cell_type": "code",
   "execution_count": 47,
   "metadata": {},
   "outputs": [
    {
     "name": "stdout",
     "output_type": "stream",
     "text": [
      "Ridge(alpha=100, random_state=42)\n"
     ]
    }
   ],
   "source": [
    "# Instantiate the final Ridge model with random_state=42 and alpha=100\n",
    "final_model = Ridge(alpha=100, random_state=42)\n",
    "\n",
    "# Display the model to verify\n",
    "print(final_model)\n"
   ]
  },
  {
   "cell_type": "markdown",
   "metadata": {},
   "source": [
    "### Fitting the Final Model on the Training Data\n",
    "\n",
    "You can go ahead and use the `X_train_scaled` and `y_train` data we created earlier."
   ]
  },
  {
   "cell_type": "code",
   "execution_count": 48,
   "metadata": {},
   "outputs": [
    {
     "name": "stdout",
     "output_type": "stream",
     "text": [
      "Final model has been fitted on the training data.\n"
     ]
    }
   ],
   "source": [
    "# fit final model \n",
    "# Fit the final model on the scaled training data\n",
    "final_model.fit(X_train_scaled, y_train)\n",
    "\n",
    "# Display a message to confirm the model has been fitted\n",
    "print(\"Final model has been fitted on the training data.\")\n"
   ]
  },
  {
   "cell_type": "markdown",
   "metadata": {},
   "source": [
    "### Preprocessing the Test Set\n",
    "\n",
    "The training data for our final model was transformed in two ways:\n",
    "\n",
    "1. Polynomial features added by the `poly` transformer object\n",
    "2. Scaled by the `scaler` transformer object\n",
    "\n",
    "In the cell below, transform the test data in the same way, with the same transformer objects. Do NOT re-instantiate or re-fit these objects."
   ]
  },
  {
   "cell_type": "code",
   "execution_count": 49,
   "metadata": {},
   "outputs": [
    {
     "name": "stdout",
     "output_type": "stream",
     "text": [
      "Test data has been transformed with polynomial features and scaling.\n"
     ]
    }
   ],
   "source": [
    "# Assuming poly and scaler are already defined and fitted on the training data\n",
    "\n",
    "# Add polynomial features\n",
    "X_test_poly = poly.transform(X_test)\n",
    "\n",
    "# Scale data\n",
    "X_test_scaled = scaler.transform(X_test_poly)\n",
    "\n",
    "# Display a message to confirm the test data has been transformed\n",
    "print(\"Test data has been transformed with polynomial features and scaling.\")\n"
   ]
  },
  {
   "cell_type": "markdown",
   "metadata": {},
   "source": [
    "Make sure the shape is correct. If you have too few columns, make sure that you passed the transformed version of `X_test` (`X_test_poly`) to the scaler rather than just `X_test`."
   ]
  },
  {
   "cell_type": "code",
   "execution_count": 50,
   "metadata": {},
   "outputs": [
    {
     "ename": "AssertionError",
     "evalue": "",
     "output_type": "error",
     "traceback": [
      "\u001b[1;31m---------------------------------------------------------------------------\u001b[0m",
      "\u001b[1;31mAssertionError\u001b[0m                            Traceback (most recent call last)",
      "Cell \u001b[1;32mIn[50], line 1\u001b[0m\n\u001b[1;32m----> 1\u001b[0m \u001b[38;5;28;01massert\u001b[39;00m X_test_scaled\u001b[38;5;241m.\u001b[39mshape \u001b[38;5;241m==\u001b[39m (\u001b[38;5;241m56\u001b[39m, \u001b[38;5;241m252\u001b[39m)\n",
      "\u001b[1;31mAssertionError\u001b[0m: "
     ]
    }
   ],
   "source": [
    "\n",
    "assert X_test_scaled.shape == (56, 252)"
   ]
  },
  {
   "cell_type": "markdown",
   "metadata": {},
   "source": [
    "### Evaluating RMSE with Final Model and Preprocessed Test Set\n",
    "\n",
    "This time we don't need to use cross-validation, since we are using the test set. In the cell below, generate predictions for the test data then use `mean_squared_error` with `squared=False` to find the RMSE for our holdout test set."
   ]
  },
  {
   "cell_type": "code",
   "execution_count": 51,
   "metadata": {},
   "outputs": [
    {
     "name": "stdout",
     "output_type": "stream",
     "text": [
      "Test RMSE: 14.203840636213913\n"
     ]
    },
    {
     "name": "stderr",
     "output_type": "stream",
     "text": [
      "C:\\Users\\svijayaraghavan\\AppData\\Local\\anaconda3\\Lib\\site-packages\\sklearn\\metrics\\_regression.py:483: FutureWarning: 'squared' is deprecated in version 1.4 and will be removed in 1.6. To calculate the root mean squared error, use the function'root_mean_squared_error'.\n",
      "  warnings.warn(\n"
     ]
    }
   ],
   "source": [
    "# Generate predictions for the test data\n",
    "y_pred_test = final_model.predict(X_test_scaled)\n",
    "\n",
    "# Find RMSE for the test data\n",
    "test_rmse = mean_squared_error(y_test, y_pred_test, squared=False)\n",
    "\n",
    "# Display the test RMSE\n",
    "print(\"Test RMSE:\", test_rmse)\n"
   ]
  },
  {
   "cell_type": "markdown",
   "metadata": {},
   "source": [
    "### Interpreting Our Results\n",
    "\n",
    "So, we successfully used polynomial features transformation and regularization to improve our metrics. But, can we recommend that this model be used for the purpose of predicting blood pressure based on these features?\n",
    "\n",
    "Let's create a scatter plot of actual vs. predicted blood pressure, with the boundaries of high blood pressure indicated:"
   ]
  },
  {
   "cell_type": "code",
   "execution_count": 52,
   "metadata": {},
   "outputs": [
    {
     "data": {
      "image/png": "[encoded data removed]",
      "text/plain": [
       "<Figure size 800x600 with 1 Axes>"
      ]
     },
     "metadata": {},
     "output_type": "display_data"
    }
   ],
   "source": [
    "import seaborn as sns\n",
    "\n",
    "# Set up plot\n",
    "fig, ax = plt.subplots(figsize=(8,6))\n",
    "\n",
    "# Seaborn scatter plot with best fit line\n",
    "sns.regplot(x=y_test, y=y_pred_test, ci=None, truncate=False, ax=ax)\n",
    "ax.set_xlabel(\"Actual Blood Pressure\")\n",
    "ax.set_ylabel(\"Predicted Blood Pressure\")\n",
    "\n",
    "# Add spans showing high blood pressure + legend\n",
    "ax.axvspan(129, max(y_test) + 1, alpha=0.2, color=\"blue\", label=\"actual high blood pressure risk\")\n",
    "ax.axhspan(129, max(y_pred_test) + 1, alpha=0.2, color=\"gray\", label=\"predicted high blood pressure risk\")\n",
    "ax.legend();"
   ]
  },
  {
   "cell_type": "markdown",
   "metadata": {},
   "source": [
    "In general, as the true blood pressure values increase, so do the predicted blood pressure values. So, it's clear that our model is picking up on *some* information from our features.\n",
    "\n",
    "But it looks like this model does not actually solve the initial business problem very well. Recall that our question was: ***can we predict blood pressure using just a scale and a tape measure?*** Our model would incorrectly flag one person as being at risk of high blood pressure, while missing all of the people who actually are at risk of high blood pressure.\n",
    "\n",
    "It is possible that some other model algorithm (e.g. k-nearest neighbors or decision trees) would do a better job of picking up on the underlying patterns in this dataset. Or if we set this up as a classification problem rather than a regression problem, if we're only interested in flagging high blood pressure rather than predicting blood pressure in general.\n",
    "\n",
    "But if we had to stop this analysis now in its current state, we would need to conclude that **while we were able to pick up some information about blood pressure using these variables alone, we did not produce a model that would work for this business case**.\n",
    "\n",
    "This is something that happens sometimes — not every target can be predicted with the features you have been given! In this case, maybe your model would still be useful for epidemiological modeling (predicting the blood pressure in populations) rather than predicting blood pressure for an individual, since we are picking up on some information. Further study would be needed to determine the feasibility of this approach."
   ]
  },
  {
   "cell_type": "markdown",
   "metadata": {},
   "source": [
    "## Summary\n",
    "\n",
    "In this cumulative lab, you performed an end-to-end machine learning process with correct usage of training, validation, and test data. You identified underfitting and overfitting and applied strategies to address them. Finally, you evaluated your final model using test data, and interpreted those results in the context of a business problem."
   ]
  }
 ],
 "metadata": {
  "kernelspec": {
   "display_name": "Python 3 (ipykernel)",
   "language": "python",
   "name": "python3"
  },
  "language_info": {
   "codemirror_mode": {
    "name": "ipython",
    "version": 3
   },
   "file_extension": ".py",
   "mimetype": "text/x-python",
   "name": "python",
   "nbconvert_exporter": "python",
   "pygments_lexer": "ipython3",
   "version": "3.12.4"
  }
 },
 "nbformat": 4,
 "nbformat_minor": 4
}
