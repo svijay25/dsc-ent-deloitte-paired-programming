{
 "cells": [
  {
   "cell_type": "markdown",
   "id": "6d6b5aef",
   "metadata": {},
   "source": [
    "### Objectives\n",
    "- To create a mock pipeline based on the business model that students choose\n",
    "\n",
    "### Introduction\n",
    "\n",
    "Based on the previous readings, we will simulate how we can best determine\n",
    "- The state of the current system (legacy)\n",
    "- Whether we should migrate the system to cloud\n",
    "- (Optional) Designing the architecture of the cloud system\n"
   ]
  },
  {
   "cell_type": "markdown",
   "id": "1841ccbb",
   "metadata": {},
   "source": [
    "### Problem Statement\n",
    "Suppose you're a decision maker in the engineering team at an eCommerce company which currently generates millions of dollars in net revenue. You have a legacy system that sits on company's data centers in remote locations, away from the headquarter where your office is. The engineering team and the data analytics team have made the decision that they would like to build a search engine, recommendation engine, and few other engines that require heavy machine learning models to increase the revenue for the company. As a decision maker, you need to assess the current system, and the engineering requirement for the future fiscal years. So you decide to answer some questions and prepare answers for the next leadership meeting.\n",
    "\n",
    "\n",
    "Currently, the capability of the data center is limited based on the square footage of the location, as well as the hardware that can be stored in the square footage. The data center resource is not only shared in the engineering team, but also within the supply chain team, logistics, HR's IT platform, and also with some other internal operations, like marketing, leadership, and also analytics team. The data centers have maxed out in terms of the hardware that they can support, and may be in need of expanding and opening up another data center."
   ]
  },
  {
   "cell_type": "markdown",
   "id": "64bd88d1",
   "metadata": {},
   "source": [
    "#### Assumptions when solving this problem\n",
    "\n",
    "- The problem statement merely states the current business problem you're facing. The design of the hypothetical data center, like square footage, hardware capabilities, human resources are all something you can create! The limitation is one thing to keep in mind, that in any data center(s), you have ran out of spaces to add more hardware.\n",
    "- You can assume based on the revenue the company is making how much data is being generated per day.\n",
    "- Be creative! If you're using third party data, i.e. Adobe Target for audience targeting, how are we receiving that data? Will that data sit on our data center and will it take up the resources? These are free constraints that you can create, but be realistic."
   ]
  },
  {
   "cell_type": "markdown",
   "id": "eeff2ec1",
   "metadata": {},
   "source": [
    "1. What is the current cost of maintaining the remote data center location?"
   ]
  },
  {
   "cell_type": "raw",
   "id": "d5f5ff79-2584-44af-8608-b9c58ce8b788",
   "metadata": {},
   "source": [
    "# your solution\n",
    "\n",
    "As a decision-maker in the engineering team, it is evident that our current data centers are maxed out in terms of hardware capacity, which is shared among various departments including engineering, supply chain, logistics, HR, marketing, leadership, and analytics. With an annual maintenance cost of $1.8 million and daily data generation of approximately 27.4GB, our current infrastructure is not scalable or flexible enough to support the future requirements of building advanced machine learning models for search and recommendation engines. To address these challenges, we have evaluated the feasibility of migrating to cloud services provided by AWS, Azure, and Google Cloud. Cloud migration offers significant benefits such as scalability, flexibility, cost efficiency, and improved performance. We have developed a phased migration plan to ensure a smooth transition with minimal disruption. Additionally, we have designed a scalable cloud architecture leveraging managed services for compute, storage, and machine learning, along with robust monitoring and management solutions. Therefore, I recommend proceeding with the cloud migration to support our future engineering needs and drive business growth.\n",
    "\n",
    "ce workers.\r\n",
    "Depreciation: Cost of hardware depreciation.\r\n",
    "Current Cost of Maintaining the Remote Data Center\r\n",
    "Operational Costs: $500,000 annually.\r\n",
    "Human Resources: $1,000,000 annually.\r\n",
    "Depreciation: $300,000 annually.\r\n",
    "Total Annual Cost: $1,800,000."
   ]
  },
  {
   "cell_type": "markdown",
   "id": "1803e76a",
   "metadata": {},
   "source": [
    "2. What are the new business requirements from your engineering team? "
   ]
  },
  {
   "cell_type": "raw",
   "id": "d4173393-b7d4-440f-8fbe-f843d0aaf3e2",
   "metadata": {},
   "source": [
    "# your solution\n",
    "\n",
    "Scalability:\n",
    "Ability to dynamically scale compute and storage resources to handle increased data processing and model training workloads. Support for high-traffic periods without compromising performance.\n",
    "\n",
    "Flexibility:\n",
    "Infrastructure that can quickly adapt to changing business needs and emerging technologies.\n",
    "Support for various machine learning frameworks and tools to accommodate different project requirements.\n",
    "\n",
    "Performance:\n",
    "Low-latency access to data and compute resources to ensure fast response times for search and recommendation engines. High availability and reliability to minimize downtime and ensure continuous operation.\n",
    "\n",
    "Cost Efficiency:\n",
    "Optimized resource utilization to reduce operational costs. Pay-as-you-go pricing models to align expenses with actual usage and avoid over-provisioning.\n",
    "\n",
    "Data Management:\n",
    "Efficient data storage solutions that can handle large volumes of structured and unstructured data. Robust data ingestion pipelines to seamlessly integrate third-party data sources (e.g., Adobe Target) and internal data streams.\n",
    "\n",
    "Security and Compliance:\n",
    "Ensuring data security and compliance with industry standards and regulations.\n",
    "Implementing robust access controls and encryption to protect sensitive information.\n",
    "\n",
    "Collaboration and Integration:\n",
    "Tools and platforms that facilitate collaboration among engineering, data analytics, and other teams. Seamless integration with existing systems and workflows to ensure smooth operations.\n",
    "\n",
    "Monitoring and Management:\n",
    "Advanced monitoring and management tools to track system performance, detect anomalies, and automate maintenance tasks. Comprehensive logging and reporting capabilities for auditing and troubleshooting."
   ]
  },
  {
   "cell_type": "markdown",
   "id": "4c9b740b",
   "metadata": {},
   "source": [
    "3. Based on the new business requirements, you decide that you need to start migrating (at least) your resources to the cloud system. What are some things that you may need to look into when considering migrating your legacy system to cloud?"
   ]
  },
  {
   "cell_type": "raw",
   "id": "e54b9615-4499-4663-a8f5-cd65c2d4f82d",
   "metadata": {},
   "source": [
    "# your solution\n",
    "Assessment of Current Infrastructure:\n",
    "\n",
    "Inventory: Conduct a thorough inventory of existing hardware, software, and applications.\n",
    "Dependencies: Identify dependencies between applications and services.\n",
    "Performance Metrics: Gather performance data to understand current usage patterns and resource requirements.\n",
    "\n",
    "Cost Analysis:\n",
    "Total Cost of Ownership (TCO): Compare the TCO of maintaining the legacy system versus migrating to the cloud.\n",
    "Pricing Models: Evaluate different pricing models offered by cloud providers (e.g., pay-as-you-go, reserved instances).\n",
    "Hidden Costs: Consider potential hidden costs such as data transfer fees, training, and potential downtime during migration.\n",
    "\n",
    "Cloud Provider Selection:\n",
    "Service Offerings: Compare the services offered by major cloud providers (AWS, Azure, Google Cloud) to meet your specific needs.\n",
    "Pricing: Analyze pricing structures and potential discounts for long-term commitments.\n",
    "Compliance and Security: Ensure the provider meets your security and compliance requirements.\n",
    "Migration Strategy:\n",
    "\n",
    "Phased Approach: Plan a phased migration to minimize disruption and allow for testing and adjustments.\n",
    "Lift and Shift vs. Refactoring: Decide whether to lift and shift existing applications or refactor them to take full advantage of cloud-native features.\n",
    "Data Migration: Develop a strategy for migrating data with minimal downtime and data loss.\n",
    "Security and Compliance:\n",
    "\n",
    "Data Protection: Implement robust data protection measures, including encryption and access controls.\n",
    "Compliance: Ensure compliance with industry regulations and standards (e.g., GDPR, HIPAA).\n",
    "Identity and Access Management (IAM): Set up IAM policies to control access to cloud resources.\n",
    "Performance and Reliability:\n",
    "\n",
    "Scalability: Ensure the cloud infrastructure can scale to meet future demands.\n",
    "High Availability: Design for high availability and disaster recovery.\n",
    "Latency: Consider the impact of latency on application performance and user experience.\n",
    "Monitoring and Management:\n",
    "\n",
    "Monitoring Tools: Implement monitoring tools to track performance, usage, and potential issues.\n",
    "Automation: Utilize automation for deployment, scaling, and management tasks.\n",
    "Logging and Reporting: Set up comprehensive logging and reporting for auditing and troubleshooting.\n",
    "Training and Change Management:\n",
    "\n",
    "Training: Provide training for staff to familiarize them with cloud technologies and best practices.\n",
    "Change Management: Develop a change management plan to address potential resistance and ensure a smooth transition.\n",
    "Vendor Support and SLAs:\n",
    "\n",
    "Support: Evaluate the level of support provided by the cloud vendor, including response times and expertise.\n",
    "Service Level Agreements (SLAs): Review SLAs to ensure they meet your business requirements for uptime and performance.\n",
    "Backup and Disaster Recovery:\n",
    "\n",
    "Backup Solutions: Implement robust backup solutions to protect against data loss.\n",
    "Disaster Recovery Plan: Develop and test a disaster recovery plan to ensure business continuity."
   ]
  },
  {
   "cell_type": "markdown",
   "id": "59bec5af",
   "metadata": {},
   "source": [
    "4. In the end, you'll need to persuade leadership why you need to migrate a system to another place, i.e. cloud, when in the eyes of leadership, everything is working fine. Write out cons/pros based on the shared categories, like cost, human resources, etc."
   ]
  },
  {
   "cell_type": "raw",
   "id": "3e1eb25e-d58b-433e-bb10-be72e80363c8",
   "metadata": {},
   "source": [
    "# your solution\n",
    "Pros:\n",
    "\n",
    "Cost\n",
    "Reduced Operational Costs: Cloud services often offer a pay-as-you-go model, which can lead to significant cost savings by only paying for the resources you use.\n",
    "Lower Maintenance Costs: Cloud providers handle hardware maintenance, reducing the need for in-house IT support and associated costs.\n",
    "Scalability Without Over-Provisioning: Avoid the capital expenditure of purchasing and maintaining excess hardware to handle peak loads.\n",
    "\n",
    "Human Resources\n",
    "Focus on Core Activities: IT staff can focus on more strategic initiatives rather than routine maintenance and troubleshooting.\n",
    "Access to Advanced Tools: Cloud platforms provide access to advanced tools and services that can enhance productivity and innovation.\n",
    "\n",
    "Performance\n",
    "Improved Performance: Cloud providers offer high-performance computing resources that can significantly enhance the speed and efficiency of applications.\n",
    "Global Reach: Cloud services can provide better performance for global users by leveraging a network of data centers worldwide.\n",
    "\n",
    "Scalability\n",
    "Dynamic Scaling: Easily scale resources up or down based on demand, ensuring optimal performance during peak times without over-provisioning.\n",
    "Future-Proofing: Cloud platforms are continually updated with the latest technologies, ensuring that our infrastructure remains cutting-edge.\n",
    "\n",
    "Security\n",
    "Enhanced Security Measures: Leading cloud providers invest heavily in security measures, often exceeding what we can implement in-house.\n",
    "Compliance: Cloud providers offer compliance with various industry standards and regulations, ensuring that our data handling practices meet legal requirements.\n",
    "\n",
    "\n",
    "Cons:\n",
    "\n",
    "Cost\n",
    "Initial Migration Costs: The initial cost of migrating to the cloud can be significant, including potential downtime and the need for new tools and training.\n",
    "Ongoing Costs: While operational costs may be lower, ongoing subscription fees can add up over time.\n",
    "\n",
    "Human Resources\n",
    "Training Requirements: Staff will need training to manage and operate the new cloud-based systems, which can be time-consuming and costly.\n",
    "Change Management: Resistance to change from employees accustomed to the legacy system may require additional efforts in change management.\n",
    "\n",
    "Performance\n",
    "Latency Issues: Depending on the cloud provider and the location of their data centers, there may be latency issues that could affect performance.\n",
    "Vendor Reliability: Dependence on the cloud provider's reliability and uptime guarantees, which may be out of our control.\n",
    "\n",
    "Scalability\n",
    "Complexity of Migration: Migrating complex legacy systems to the cloud can be challenging and may require significant planning and resources.\n",
    "Compatibility Issues: Not all legacy applications may be compatible with cloud environments, potentially requiring refactoring or replacement.\n",
    "\n",
    "Security\n",
    "Data Privacy Concerns: Storing sensitive data in the cloud may raise privacy concerns and require robust encryption and access controls.\n",
    "Shared Responsibility: Security in the cloud is a shared responsibility between the provider and our organization, requiring careful management and oversight."
   ]
  },
  {
   "cell_type": "markdown",
   "id": "6e33f2e8",
   "metadata": {},
   "source": [
    "(OPTIONAL) This may require an engineering/software background. You have the same hypothetical machine learning architecture, but one on the legacy system and one on the cloud. Moving away from the business logic, what is the benefit on the engineering stack if we use the cloud? What can be problematic if we use the cloud?"
   ]
  },
  {
   "cell_type": "code",
   "execution_count": 5,
   "id": "edbbc3aa",
   "metadata": {},
   "outputs": [],
   "source": [
    "# your solution, attach a screenshot of a hypothetical architecture at a high level"
   ]
  },
  {
   "cell_type": "raw",
   "id": "8f5aafb0-ea32-419f-bc0e-c4841160e24e",
   "metadata": {},
   "source": [
    "Benefits of Using the Cloud for Machine Learning Architecture\n",
    "1. Scalability and Flexibility\n",
    "Elastic Compute Resources: Cloud platforms allow for dynamic scaling of compute resources, enabling the machine learning models to handle varying workloads efficiently without manual intervention.\n",
    "\n",
    "2. Access to Advanced Tools and Services\n",
    "Managed Services: Cloud providers offer managed machine learning services (e.g., AWS SageMaker, Google AI Platform, Azure ML), which simplify the deployment, training, and monitoring of models.\n",
    "\n",
    "3. Continuous Integration and Continuous Deployment (CI/CD)\n",
    "Automated Pipelines: Cloud environments support CI/CD pipelines, enabling automated testing, integration, and deployment of machine learning models.\n",
    "\n",
    "4. Enhanced Collaboration\n",
    "Unified Environment: Cloud platforms provide a unified environment where data scientists, engineers, and analysts can collaborate in real-time.\n",
    "\n",
    "5. Security and Compliance\n",
    "Built-in Security Features: Cloud providers offer robust security features, including encryption, identity and access management (IAM), and compliance certifications.\n",
    "\n",
    "\n",
    "\n",
    "\n",
    "\n",
    "Potential Problems of Using the Cloud for Machine Learning Architecture\n",
    "\n",
    "1. Latency and Bandwidth Issues\n",
    "Data Transfer Latency: Transferring large datasets to and from the cloud can introduce latency, affecting the performance of real-time applications.\n",
    "\n",
    "\n",
    "2. Vendor Lock-In\n",
    "Proprietary Services: Relying on proprietary cloud services can lead to vendor lock-in, making it challenging to switch providers or migrate back on-premises.\n",
    "\n",
    "\n",
    "3. Cost Management\n",
    "Unpredictable Costs: While cloud services offer cost savings, unpredictable usage patterns can lead to unexpected expenses.\n",
    "\n",
    "\n",
    "4. Security Concerns\n",
    "Data Privacy: Storing sensitive data in the cloud raises concerns about data privacy and compliance with regulations.\n",
    "\n",
    "\n",
    "5. Complexity of Migration\n",
    "Data Migration: Migrating large datasets and models to the cloud can be complex and time-consuming.\n"
   ]
  }
 ],
 "metadata": {
  "kernelspec": {
   "display_name": "Python 3 (ipykernel)",
   "language": "python",
   "name": "python3"
  },
  "language_info": {
   "codemirror_mode": {
    "name": "ipython",
    "version": 3
   },
   "file_extension": ".py",
   "mimetype": "text/x-python",
   "name": "python",
   "nbconvert_exporter": "python",
   "pygments_lexer": "ipython3",
   "version": "3.12.4"
  }
 },
 "nbformat": 4,
 "nbformat_minor": 5
}
