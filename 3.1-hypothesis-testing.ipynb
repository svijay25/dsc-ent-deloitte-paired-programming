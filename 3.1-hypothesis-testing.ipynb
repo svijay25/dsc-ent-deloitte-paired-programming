{
 "cells": [
  {
   "cell_type": "markdown",
   "metadata": {
    "id": "aZtSqIOJdoB5"
   },
   "source": [
    "# Hypothesis Test - Lab"
   ]
  },
  {
   "cell_type": "markdown",
   "metadata": {
    "id": "VYcXqBhLdoB8"
   },
   "source": [
    "## Introduction\n",
    "\n",
    "In this lab, you'll have the opportunity to decide to pick the variables that you want to perform one and two sample t-tests."
   ]
  },
  {
   "cell_type": "markdown",
   "metadata": {
    "id": "bemRQ-KhdoB9"
   },
   "source": [
    "## Objectives\n",
    "\n",
    "You will be able to:\n",
    "\n",
    "* Construct and interpret a confidence interval for a single mean\n",
    "* Perform a hypothesis test for a single mean\n",
    "* Construct and interpret a confidence interval for two independent means\n",
    "* Perform a hypothesis test for two independent means\n"
   ]
  },
  {
   "cell_type": "markdown",
   "metadata": {
    "id": "yveycAz2doB9"
   },
   "source": [
    "## The Data: Last Words of Death Row Inmates\n",
    "\n",
    "On Kaggle there is a famous data set of *[Last Words of Death Row Inmates](https://www.kaggle.com/datasets/mykhe1097/last-words-of-death-row-inmates)*. While this data set is often used for natural language processing, we'll use the non-text data for statistical inference on one and two means using the t-distribution."
   ]
  },
  {
   "cell_type": "markdown",
   "metadata": {
    "id": "AFwoq4PulATc"
   },
   "source": [
    "### Data Dictionary\n",
    "\n",
    "The dataset consists of 545 observations with 21 variables. They are:\n",
    "\n",
    "* `Execution`: The order of execution, numeric.\n",
    "* `LastName`: Last name of the offender, character.\n",
    "* `FirstName`: First name of the offender, character.\n",
    "* `TDCJNumber`: TDCJ Number of the offender, numeric.\n",
    "* `Age`: Age of the offender, numeric.\n",
    "* `Race`: Race of the offender, categorical : Black, Hispanic, White, Other.\n",
    "* `CountyOfConviction`: County of conviction, character.\n",
    "* `AgeWhenReceived`: Age of offender when received, numeric.\n",
    "* `EducationLevel`: Education level of offender, numeric.\n",
    "* `NativeCounty`: Native county of offender, categorical : 0 = Within Texas, 1= Outside Texas.\n",
    "* `PreviousCrime`: Whether the offender committed any crime before, categorical: 0= No, 1= Yes.\n",
    "* `Codefendants`: Number of co-defendants, numeric.\n",
    "* `NumberVictim`: Number of victims, numeric.\n",
    "* `WhiteVictim`, `HispanicVictim`, `BlackVictim`, `VictimOtherRace` `FemaleVictim`, `MaleVictim`: Number of victims with specified demographic features, numeric.\n",
    "* `LastStatement`: Last statement of offender, character.\n",
    "\n",
    "The [data file](https://github.com/learn-co-curriculum/dsc-hypothesis-testing-ent/blob/main/data/texas.csv) that we'll be using has the first 20 variables, i.e. we're excluding the `LastStatement` variable.\n",
    "\n",
    "*N.B.*: Note this data is from 1982 - 2017 and for that time period the data is exhaustive."
   ]
  },
  {
   "cell_type": "markdown",
   "metadata": {
    "id": "Ob72RcZhdoB-"
   },
   "source": [
    "## Preliminary Steps\n",
    "\n",
    "As usual, begin with importing the Python libraries that you will need. Then bring in the data and explore it.\n",
    "\n",
    "You'll likely want to use `scipy.stats`. If you want to use `confidence_interval(confidence_level=0.95)` with [`scipy.stats.ttest_ind`](https://docs.scipy.org/doc/scipy/reference/generated/scipy.stats.ttest_ind.html), then you need to have `scipy` version 1.11.0."
   ]
  },
  {
   "cell_type": "code",
   "execution_count": 1,
   "metadata": {
    "id": "sWHwHWlj8wOg"
   },
   "outputs": [
    {
     "name": "stdout",
     "output_type": "stream",
     "text": [
      "Collecting scipy==1.11.0\n",
      "  Using cached scipy-1.11.0.tar.gz (56.0 MB)\n",
      "  Installing build dependencies: started\n",
      "  Installing build dependencies: finished with status 'done'\n",
      "  Getting requirements to build wheel: started\n",
      "  Getting requirements to build wheel: finished with status 'done'\n",
      "  Installing backend dependencies: started\n",
      "  Installing backend dependencies: finished with status 'done'\n",
      "  Preparing metadata (pyproject.toml): started\n",
      "  Preparing metadata (pyproject.toml): finished with status 'error'\n"
     ]
    },
    {
     "name": "stderr",
     "output_type": "stream",
     "text": [
      "  error: subprocess-exited-with-error\n",
      "  \n",
      "  Preparing metadata (pyproject.toml) did not run successfully.\n",
      "  exit code: 1\n",
      "  \n",
      "  [21 lines of output]\n",
      "  + meson setup C:\\Users\\svijayaraghavan\\AppData\\Local\\Temp\\pip-install-l8g_r12m\\scipy_846a3bc72fdc4e99b9f9100499240d03 C:\\Users\\svijayaraghavan\\AppData\\Local\\Temp\\pip-install-l8g_r12m\\scipy_846a3bc72fdc4e99b9f9100499240d03\\.mesonpy-_j7qamj_\\build -Dbuildtype=release -Db_ndebug=if-release -Db_vscrt=md --native-file=C:\\Users\\svijayaraghavan\\AppData\\Local\\Temp\\pip-install-l8g_r12m\\scipy_846a3bc72fdc4e99b9f9100499240d03\\.mesonpy-_j7qamj_\\build\\meson-python-native-file.ini\n",
      "  The Meson build system\n",
      "  Version: 1.5.1\n",
      "  Source dir: C:\\Users\\svijayaraghavan\\AppData\\Local\\Temp\\pip-install-l8g_r12m\\scipy_846a3bc72fdc4e99b9f9100499240d03\n",
      "  Build dir: C:\\Users\\svijayaraghavan\\AppData\\Local\\Temp\\pip-install-l8g_r12m\\scipy_846a3bc72fdc4e99b9f9100499240d03\\.mesonpy-_j7qamj_\\build\n",
      "  Build type: native build\n",
      "  Project name: SciPy\n",
      "  Project version: 1.11.0\n",
      "  WARNING: Failed to activate VS environment: Could not find C:\\Program Files (x86)\\Microsoft Visual Studio\\Installer\\vswhere.exe\n",
      "  \n",
      "  ..\\..\\meson.build:1:0: ERROR: Unknown compiler(s): [['icl'], ['cl'], ['cc'], ['gcc'], ['clang'], ['clang-cl'], ['pgcc']]\n",
      "  The following exception(s) were encountered:\n",
      "  Running `icl \"\"` gave \"[WinError 2] The system cannot find the file specified\"\n",
      "  Running `cl /?` gave \"[WinError 2] The system cannot find the file specified\"\n",
      "  Running `cc --version` gave \"[WinError 2] The system cannot find the file specified\"\n",
      "  Running `gcc --version` gave \"[WinError 2] The system cannot find the file specified\"\n",
      "  Running `clang --version` gave \"[WinError 2] The system cannot find the file specified\"\n",
      "  Running `clang-cl /?` gave \"[WinError 2] The system cannot find the file specified\"\n",
      "  Running `pgcc --version` gave \"[WinError 2] The system cannot find the file specified\"\n",
      "  \n",
      "  A full log can be found at C:\\Users\\svijayaraghavan\\AppData\\Local\\Temp\\pip-install-l8g_r12m\\scipy_846a3bc72fdc4e99b9f9100499240d03\\.mesonpy-_j7qamj_\\build\\meson-logs\\meson-log.txt\n",
      "  [end of output]\n",
      "  \n",
      "  note: This error originates from a subprocess, and is likely not a problem with pip.\n",
      "error: metadata-generation-failed\n",
      "\n",
      "Encountered error while generating package metadata.\n",
      "\n",
      "See above for output.\n",
      "\n",
      "note: This is an issue with the package mentioned above, not pip.\n",
      "hint: See above for details.\n"
     ]
    }
   ],
   "source": [
    "# Only do this if necessary\n",
    "! pip install scipy==1.11.0"
   ]
  },
  {
   "cell_type": "code",
   "execution_count": 2,
   "metadata": {
    "id": "pmDB4q8y3VsE"
   },
   "outputs": [
    {
     "data": {
      "text/plain": [
       "'1.13.1'"
      ]
     },
     "execution_count": 2,
     "metadata": {},
     "output_type": "execute_result"
    }
   ],
   "source": [
    "__requires__= 'scipy==11.1.0'\n",
    "\n",
    "# Bring in germane libraries\n",
    "import pandas as pd\n",
    "import matplotlib.pyplot as plt\n",
    "import scipy\n",
    "import scipy.stats as stats\n",
    "\n",
    "scipy.__version__"
   ]
  },
  {
   "cell_type": "code",
   "execution_count": 3,
   "metadata": {
    "id": "R2cLU3rcdoB9"
   },
   "outputs": [],
   "source": [
    "# Read data into dataframe\n",
    "df = pd.read_csv('texas.csv', index_col=0)"
   ]
  },
  {
   "cell_type": "markdown",
   "metadata": {
    "id": "I63AnyI7j1wJ"
   },
   "source": [
    "Now that you have brought in the data. Consider these or similar commands to get a feel for the data.\n",
    "* `.info()`\n",
    "* `.head()`\n",
    "\n"
   ]
  },
  {
   "cell_type": "code",
   "execution_count": 4,
   "metadata": {
    "colab": {
     "base_uri": "https://localhost:8080/"
    },
    "id": "vkvQRA3BkHlP",
    "outputId": "4ae884a7-ca7a-47f8-eaca-c34a7f610015"
   },
   "outputs": [
    {
     "name": "stdout",
     "output_type": "stream",
     "text": [
      "<class 'pandas.core.frame.DataFrame'>\n",
      "Index: 383 entries, Cardenas to Brooks, Jr.\n",
      "Data columns (total 17 columns):\n",
      " #   Column              Non-Null Count  Dtype \n",
      "---  ------              --------------  ----- \n",
      " 0   FirstName           383 non-null    object\n",
      " 1   TDCJNumber          383 non-null    int64 \n",
      " 2   Age                 383 non-null    int64 \n",
      " 3   Race                383 non-null    object\n",
      " 4   CountyOfConviction  383 non-null    object\n",
      " 5   AgeWhenReceived     383 non-null    int64 \n",
      " 6   EducationLevel      383 non-null    int64 \n",
      " 7   NativeCounty        383 non-null    int64 \n",
      " 8   PreviousCrime       383 non-null    int64 \n",
      " 9   Codefendants        383 non-null    int64 \n",
      " 10  NumberVictim        383 non-null    int64 \n",
      " 11  WhiteVictim         383 non-null    int64 \n",
      " 12  HispanicVictim      383 non-null    int64 \n",
      " 13  BlackVictim         383 non-null    int64 \n",
      " 14  VictimOther.Races   383 non-null    int64 \n",
      " 15  FemaleVictim        383 non-null    int64 \n",
      " 16  MaleVictim          383 non-null    int64 \n",
      "dtypes: int64(14), object(3)\n",
      "memory usage: 53.9+ KB\n"
     ]
    }
   ],
   "source": [
    "# Get DataFrame info\n",
    "df.info()"
   ]
  },
  {
   "cell_type": "code",
   "execution_count": 5,
   "metadata": {
    "colab": {
     "base_uri": "https://localhost:8080/",
     "height": 302
    },
    "id": "crurIpEekzdz",
    "outputId": "e8017062-f095-47ea-a45c-ee8b82ee3397"
   },
   "outputs": [
    {
     "data": {
      "text/html": [
       "<div>\n",
       "<style scoped>\n",
       "    .dataframe tbody tr th:only-of-type {\n",
       "        vertical-align: middle;\n",
       "    }\n",
       "\n",
       "    .dataframe tbody tr th {\n",
       "        vertical-align: top;\n",
       "    }\n",
       "\n",
       "    .dataframe thead th {\n",
       "        text-align: right;\n",
       "    }\n",
       "</style>\n",
       "<table border=\"1\" class=\"dataframe\">\n",
       "  <thead>\n",
       "    <tr style=\"text-align: right;\">\n",
       "      <th></th>\n",
       "      <th>FirstName</th>\n",
       "      <th>TDCJNumber</th>\n",
       "      <th>Age</th>\n",
       "      <th>Race</th>\n",
       "      <th>CountyOfConviction</th>\n",
       "      <th>AgeWhenReceived</th>\n",
       "      <th>EducationLevel</th>\n",
       "      <th>NativeCounty</th>\n",
       "      <th>PreviousCrime</th>\n",
       "      <th>Codefendants</th>\n",
       "      <th>NumberVictim</th>\n",
       "      <th>WhiteVictim</th>\n",
       "      <th>HispanicVictim</th>\n",
       "      <th>BlackVictim</th>\n",
       "      <th>VictimOther.Races</th>\n",
       "      <th>FemaleVictim</th>\n",
       "      <th>MaleVictim</th>\n",
       "    </tr>\n",
       "    <tr>\n",
       "      <th>LastName</th>\n",
       "      <th></th>\n",
       "      <th></th>\n",
       "      <th></th>\n",
       "      <th></th>\n",
       "      <th></th>\n",
       "      <th></th>\n",
       "      <th></th>\n",
       "      <th></th>\n",
       "      <th></th>\n",
       "      <th></th>\n",
       "      <th></th>\n",
       "      <th></th>\n",
       "      <th></th>\n",
       "      <th></th>\n",
       "      <th></th>\n",
       "      <th></th>\n",
       "      <th></th>\n",
       "    </tr>\n",
       "  </thead>\n",
       "  <tbody>\n",
       "    <tr>\n",
       "      <th>Cardenas</th>\n",
       "      <td>Ruben</td>\n",
       "      <td>999275</td>\n",
       "      <td>47</td>\n",
       "      <td>Hispanic</td>\n",
       "      <td>Hidalgo</td>\n",
       "      <td>28</td>\n",
       "      <td>11</td>\n",
       "      <td>1</td>\n",
       "      <td>0</td>\n",
       "      <td>0</td>\n",
       "      <td>1</td>\n",
       "      <td>0</td>\n",
       "      <td>1</td>\n",
       "      <td>0</td>\n",
       "      <td>0</td>\n",
       "      <td>1</td>\n",
       "      <td>0</td>\n",
       "    </tr>\n",
       "    <tr>\n",
       "      <th>Pruett</th>\n",
       "      <td>Robert</td>\n",
       "      <td>999411</td>\n",
       "      <td>38</td>\n",
       "      <td>White</td>\n",
       "      <td>Bee</td>\n",
       "      <td>22</td>\n",
       "      <td>8</td>\n",
       "      <td>0</td>\n",
       "      <td>1</td>\n",
       "      <td>0</td>\n",
       "      <td>1</td>\n",
       "      <td>1</td>\n",
       "      <td>0</td>\n",
       "      <td>0</td>\n",
       "      <td>0</td>\n",
       "      <td>0</td>\n",
       "      <td>1</td>\n",
       "    </tr>\n",
       "    <tr>\n",
       "      <th>Preyor</th>\n",
       "      <td>Taichin</td>\n",
       "      <td>999494</td>\n",
       "      <td>46</td>\n",
       "      <td>Black</td>\n",
       "      <td>Bexar</td>\n",
       "      <td>34</td>\n",
       "      <td>10</td>\n",
       "      <td>0</td>\n",
       "      <td>0</td>\n",
       "      <td>0</td>\n",
       "      <td>1</td>\n",
       "      <td>1</td>\n",
       "      <td>0</td>\n",
       "      <td>0</td>\n",
       "      <td>0</td>\n",
       "      <td>0</td>\n",
       "      <td>1</td>\n",
       "    </tr>\n",
       "    <tr>\n",
       "      <th>Bigby</th>\n",
       "      <td>James</td>\n",
       "      <td>997</td>\n",
       "      <td>61</td>\n",
       "      <td>White</td>\n",
       "      <td>Tarrant</td>\n",
       "      <td>36</td>\n",
       "      <td>9</td>\n",
       "      <td>0</td>\n",
       "      <td>1</td>\n",
       "      <td>0</td>\n",
       "      <td>1</td>\n",
       "      <td>1</td>\n",
       "      <td>0</td>\n",
       "      <td>0</td>\n",
       "      <td>0</td>\n",
       "      <td>0</td>\n",
       "      <td>1</td>\n",
       "    </tr>\n",
       "    <tr>\n",
       "      <th>Ruiz</th>\n",
       "      <td>Rolando</td>\n",
       "      <td>999145</td>\n",
       "      <td>44</td>\n",
       "      <td>Hispanic</td>\n",
       "      <td>Bexar</td>\n",
       "      <td>22</td>\n",
       "      <td>10</td>\n",
       "      <td>0</td>\n",
       "      <td>1</td>\n",
       "      <td>4</td>\n",
       "      <td>1</td>\n",
       "      <td>0</td>\n",
       "      <td>1</td>\n",
       "      <td>0</td>\n",
       "      <td>0</td>\n",
       "      <td>1</td>\n",
       "      <td>0</td>\n",
       "    </tr>\n",
       "  </tbody>\n",
       "</table>\n",
       "</div>"
      ],
      "text/plain": [
       "         FirstName  TDCJNumber  Age      Race CountyOfConviction  \\\n",
       "LastName                                                           \n",
       "Cardenas     Ruben      999275   47  Hispanic            Hidalgo   \n",
       "Pruett      Robert      999411   38     White                Bee   \n",
       "Preyor     Taichin      999494   46     Black              Bexar   \n",
       "Bigby        James         997   61     White            Tarrant   \n",
       "Ruiz       Rolando      999145   44  Hispanic              Bexar   \n",
       "\n",
       "          AgeWhenReceived  EducationLevel  NativeCounty  PreviousCrime  \\\n",
       "LastName                                                                 \n",
       "Cardenas               28              11             1              0   \n",
       "Pruett                 22               8             0              1   \n",
       "Preyor                 34              10             0              0   \n",
       "Bigby                  36               9             0              1   \n",
       "Ruiz                   22              10             0              1   \n",
       "\n",
       "          Codefendants  NumberVictim  WhiteVictim  HispanicVictim  \\\n",
       "LastName                                                            \n",
       "Cardenas             0             1            0               1   \n",
       "Pruett               0             1            1               0   \n",
       "Preyor               0             1            1               0   \n",
       "Bigby                0             1            1               0   \n",
       "Ruiz                 4             1            0               1   \n",
       "\n",
       "          BlackVictim  VictimOther.Races  FemaleVictim  MaleVictim  \n",
       "LastName                                                            \n",
       "Cardenas            0                  0             1           0  \n",
       "Pruett              0                  0             0           1  \n",
       "Preyor              0                  0             0           1  \n",
       "Bigby               0                  0             0           1  \n",
       "Ruiz                0                  0             1           0  "
      ]
     },
     "execution_count": 5,
     "metadata": {},
     "output_type": "execute_result"
    }
   ],
   "source": [
    "# head\n",
    "df.head()"
   ]
  },
  {
   "cell_type": "markdown",
   "metadata": {
    "id": "mzP09_zBdoB_"
   },
   "source": [
    "### Preprocessing"
   ]
  },
  {
   "cell_type": "markdown",
   "metadata": {
    "id": "tm9XD1lWxBXW"
   },
   "source": [
    "While there are a number of preprocessing steps you may choose to make, at the very least you should do the following.\n",
    "\n",
    "Based on the data dictionary and how the data is interpreted by Numpy, convert any non-numeric data into the proper form. Verify that your code worked correctly."
   ]
  },
  {
   "cell_type": "code",
   "execution_count": 9,
   "metadata": {
    "id": "zOU2yTTBdoB_"
   },
   "outputs": [],
   "source": [
    "# Use the map function to change the two variables\n",
    "# Example: Assuming 'Category' and 'Type' are non-numeric columns\n",
    "# Columns to be converted\n",
    "categorical_columns = ['Race', 'NativeCounty']\n",
    "\n",
    "# Define a mapping for each non-numeric column\n",
    "race_mapping = {'Black': 1, 'Hispanic': 2, 'White': 3, 'Other': 4}\n",
    "native_county_mapping = {0: 'Within Texas', 1: 'Outside Texas'}\n",
    "\n",
    "# Apply the mapping using the map function\n",
    "df['Race'] = df['Race'].map(race_mapping)\n",
    "df['NativeCounty'] = df['NativeCounty'].map(native_county_mapping)\n",
    "\n"
   ]
  },
  {
   "cell_type": "code",
   "execution_count": 10,
   "metadata": {
    "colab": {
     "base_uri": "https://localhost:8080/",
     "height": 302
    },
    "id": "wNWgeYFYp3wg",
    "outputId": "08299ba1-a4db-4a88-ed71-a30eaa05b75f"
   },
   "outputs": [
    {
     "name": "stdout",
     "output_type": "stream",
     "text": [
      "         FirstName  TDCJNumber  Age  Race CountyOfConviction  AgeWhenReceived  \\\n",
      "LastName                                                                        \n",
      "Cardenas     Ruben      999275   47     2            Hidalgo               28   \n",
      "Pruett      Robert      999411   38     3                Bee               22   \n",
      "Preyor     Taichin      999494   46     1              Bexar               34   \n",
      "Bigby        James         997   61     3            Tarrant               36   \n",
      "Ruiz       Rolando      999145   44     2              Bexar               22   \n",
      "\n",
      "          EducationLevel   NativeCounty  PreviousCrime  Codefendants  \\\n",
      "LastName                                                               \n",
      "Cardenas              11  Outside Texas              0             0   \n",
      "Pruett                 8   Within Texas              1             0   \n",
      "Preyor                10   Within Texas              0             0   \n",
      "Bigby                  9   Within Texas              1             0   \n",
      "Ruiz                  10   Within Texas              1             4   \n",
      "\n",
      "          NumberVictim  WhiteVictim  HispanicVictim  BlackVictim  \\\n",
      "LastName                                                           \n",
      "Cardenas             1            0               1            0   \n",
      "Pruett               1            1               0            0   \n",
      "Preyor               1            1               0            0   \n",
      "Bigby                1            1               0            0   \n",
      "Ruiz                 1            0               1            0   \n",
      "\n",
      "          VictimOther.Races  FemaleVictim  MaleVictim  \n",
      "LastName                                               \n",
      "Cardenas                  0             1           0  \n",
      "Pruett                    0             0           1  \n",
      "Preyor                    0             0           1  \n",
      "Bigby                     0             0           1  \n",
      "Ruiz                      0             1           0  \n"
     ]
    }
   ],
   "source": [
    "# Verify this was done correctly\n",
    "# head\n",
    "# Check the first few rows to verify the conversion\n",
    "print(df.head())\n"
   ]
  },
  {
   "cell_type": "code",
   "execution_count": 11,
   "metadata": {
    "colab": {
     "base_uri": "https://localhost:8080/"
    },
    "id": "89Uh5cuTp9T4",
    "outputId": "3d843fbd-b1cf-4537-cd1b-05ba160ec937"
   },
   "outputs": [
    {
     "name": "stdout",
     "output_type": "stream",
     "text": [
      "<class 'pandas.core.frame.DataFrame'>\n",
      "Index: 383 entries, Cardenas to Brooks, Jr.\n",
      "Data columns (total 17 columns):\n",
      " #   Column              Non-Null Count  Dtype \n",
      "---  ------              --------------  ----- \n",
      " 0   FirstName           383 non-null    object\n",
      " 1   TDCJNumber          383 non-null    int64 \n",
      " 2   Age                 383 non-null    int64 \n",
      " 3   Race                383 non-null    int64 \n",
      " 4   CountyOfConviction  383 non-null    object\n",
      " 5   AgeWhenReceived     383 non-null    int64 \n",
      " 6   EducationLevel      383 non-null    int64 \n",
      " 7   NativeCounty        382 non-null    object\n",
      " 8   PreviousCrime       383 non-null    int64 \n",
      " 9   Codefendants        383 non-null    int64 \n",
      " 10  NumberVictim        383 non-null    int64 \n",
      " 11  WhiteVictim         383 non-null    int64 \n",
      " 12  HispanicVictim      383 non-null    int64 \n",
      " 13  BlackVictim         383 non-null    int64 \n",
      " 14  VictimOther.Races   383 non-null    int64 \n",
      " 15  FemaleVictim        383 non-null    int64 \n",
      " 16  MaleVictim          383 non-null    int64 \n",
      "dtypes: int64(14), object(3)\n",
      "memory usage: 53.9+ KB\n"
     ]
    }
   ],
   "source": [
    "# Verify this was done correctly\n",
    "# info\n",
    "df.info()"
   ]
  },
  {
   "cell_type": "markdown",
   "metadata": {
    "id": "0YKRMML9sMZd"
   },
   "source": [
    "### EDA\n",
    "\n",
    "Now perform Exploratory Data Analysis of at least three variables of your choosing. You should look at both descriptive statistics and visualizations."
   ]
  },
  {
   "cell_type": "code",
   "execution_count": 12,
   "metadata": {
    "colab": {
     "base_uri": "https://localhost:8080/",
     "height": 364
    },
    "id": "6ywarJPosbIm",
    "outputId": "104653ae-4443-404a-c6b9-a15956928e9f"
   },
   "outputs": [
    {
     "name": "stdout",
     "output_type": "stream",
     "text": [
      "              Age        Race  NumberVictim\n",
      "count  383.000000  383.000000    383.000000\n",
      "mean    39.373368    2.133159      1.394256\n",
      "std      8.653542    0.895318      0.761418\n",
      "min     24.000000    1.000000      0.000000\n",
      "25%     33.000000    1.000000      1.000000\n",
      "50%     38.000000    2.000000      1.000000\n",
      "75%     44.000000    3.000000      2.000000\n",
      "max     67.000000    4.000000      6.000000\n"
     ]
    }
   ],
   "source": [
    "# EDA code sample\n",
    "# describe\n",
    "# Descriptive statistics for Age, Race, and NumberVictim\n",
    "print(df[['Age', 'Race', 'NumberVictim']].describe())\n"
   ]
  },
  {
   "cell_type": "code",
   "execution_count": 14,
   "metadata": {
    "colab": {
     "base_uri": "https://localhost:8080/"
    },
    "id": "pQmsV_C1urzy",
    "outputId": "58a5262e-c7aa-41b5-b296-4e1de168c1e4"
   },
   "outputs": [
    {
     "data": {
      "image/png": "[encoded data removed]",
      "text/plain": [
       "<Figure size 1000x600 with 1 Axes>"
      ]
     },
     "metadata": {},
     "output_type": "display_data"
    }
   ],
   "source": [
    "# EDA code sample\n",
    "# Count the number of each race\n",
    "import pandas as pd\n",
    "import matplotlib.pyplot as plt\n",
    "import seaborn as sns\n",
    "\n",
    "plt.figure(figsize=(10, 6))\n",
    "sns.countplot(x='Race', data=df)\n",
    "plt.title('Distribution of Race')\n",
    "plt.xlabel('Race')\n",
    "plt.ylabel('Count')\n",
    "plt.show()\n"
   ]
  },
  {
   "cell_type": "code",
   "execution_count": 15,
   "metadata": {
    "colab": {
     "base_uri": "https://localhost:8080/",
     "height": 484
    },
    "id": "a3GT1AzYwaIJ",
    "outputId": "c79af886-d4d1-4e30-a1b5-928fc19fef90"
   },
   "outputs": [
    {
     "data": {
      "image/png": "[encoded data removed]",
      "text/plain": [
       "<Figure size 1000x600 with 1 Axes>"
      ]
     },
     "metadata": {},
     "output_type": "display_data"
    }
   ],
   "source": [
    "# EDA code sample\n",
    "# Plot age (use histogram)\n",
    "plt.figure(figsize=(10, 6))\n",
    "sns.histplot(df['Age'], bins=20, kde=True)\n",
    "plt.title('Distribution of Age')\n",
    "plt.xlabel('Age')\n",
    "plt.ylabel('Frequency')\n",
    "plt.show()\n"
   ]
  },
  {
   "cell_type": "markdown",
   "metadata": {
    "id": "IZuCqdl0zCZy"
   },
   "source": [
    "## Statistical Inference"
   ]
  },
  {
   "cell_type": "markdown",
   "metadata": {
    "id": "1Dq2fGxM0dnU"
   },
   "source": [
    "### One mean"
   ]
  },
  {
   "cell_type": "markdown",
   "metadata": {
    "id": "soyonlcH0ev-"
   },
   "source": [
    "Now pick a variable that you can perform statistical inference on a single sample mean using the t-distribution."
   ]
  },
  {
   "cell_type": "markdown",
   "metadata": {
    "id": "87GfQFt3QjEy"
   },
   "source": [
    "In the code block below please respond to all of the following (commented out):\n",
    "\n",
    "*   What is the variable you chose?\n",
    "*   How do you know it is appropriate for statistical inference on a single mean using the t-distribution?\n",
    "*   You'll be asked to contruct and interpret a confidence interval. What is the level of confidence that you'll pick?\n",
    "*   You'll be asked to perform a hypothesis test.\n",
    "  *   What are the null and alternative hypotheses?\n",
    "  *   What is the level of significance?\n",
    "\n"
   ]
  },
  {
   "cell_type": "code",
   "execution_count": 16,
   "metadata": {
    "id": "F7Nkbm1_SI5M"
   },
   "outputs": [
    {
     "name": "stdout",
     "output_type": "stream",
     "text": [
      "count    383.000000\n",
      "mean      10.182768\n",
      "std        2.071501\n",
      "min        0.000000\n",
      "25%        9.000000\n",
      "50%       10.000000\n",
      "75%       12.000000\n",
      "max       16.000000\n",
      "Name: EducationLevel, dtype: float64\n"
     ]
    }
   ],
   "source": [
    "# Responses to questions\n",
    "\n",
    "# Response snippet: Education level with the null value at 0.\n",
    "\n",
    "# Descriptive statistics for EducationLevel\n",
    "education_level = df['EducationLevel']\n",
    "print(education_level.describe())\n"
   ]
  },
  {
   "cell_type": "markdown",
   "metadata": {
    "id": "h1o5o7cITLe6"
   },
   "source": [
    "#### Confidence Interval"
   ]
  },
  {
   "cell_type": "markdown",
   "metadata": {
    "id": "fnG0w6QeTYD1"
   },
   "source": [
    "Now construct a confidence interval for your chosen variable at the level of confidence you chose above."
   ]
  },
  {
   "cell_type": "code",
   "execution_count": 18,
   "metadata": {
    "colab": {
     "base_uri": "https://localhost:8080/"
    },
    "id": "LeOuI5pITmwM",
    "outputId": "1547c853-0033-4986-d6a0-43d3576b4a2e"
   },
   "outputs": [
    {
     "name": "stdout",
     "output_type": "stream",
     "text": [
      "95% Confidence Interval: (9.974648498733123, 10.390886749308654)\n"
     ]
    }
   ],
   "source": [
    "# Construct the confidence interval\n",
    "\n",
    "import pandas as pd\n",
    "from scipy import stats\n",
    "import numpy as np\n",
    "\n",
    "# Calculate the sample mean and standard error\n",
    "sample_mean = np.mean(education_level)\n",
    "sample_std = np.std(education_level, ddof=1)\n",
    "n = len(education_level)\n",
    "standard_error = sample_std / np.sqrt(n)\n",
    "\n",
    "# Define the confidence level\n",
    "confidence_level = 0.95\n",
    "degrees_freedom = n - 1\n",
    "t_critical = stats.t.ppf((1 + confidence_level) / 2, degrees_freedom)\n",
    "\n",
    "# Calculate the margin of error\n",
    "margin_of_error = t_critical * standard_error\n",
    "\n",
    "# Calculate the confidence interval\n",
    "confidence_interval = (sample_mean - margin_of_error, sample_mean + margin_of_error)\n",
    "print(f\"95% Confidence Interval: {confidence_interval}\")\n"
   ]
  },
  {
   "cell_type": "markdown",
   "metadata": {
    "id": "emTNtBqvTqh3"
   },
   "source": [
    "Interpret the confidence interval in the code block below (commented out)."
   ]
  },
  {
   "cell_type": "code",
   "execution_count": 19,
   "metadata": {
    "id": "2Bzz2cBcT6PV"
   },
   "outputs": [
    {
     "name": "stdout",
     "output_type": "stream",
     "text": [
      "T-statistic: 1.7266866517489512\n",
      "P-value: 0.08503239641944642\n",
      "Fail to reject the null hypothesis\n"
     ]
    }
   ],
   "source": [
    "# Interpretation\n",
    "# Define the null hypothesis value\n",
    "mu0 = 10\n",
    "\n",
    "# Calculate the t-statistic and p-value\n",
    "t_statistic, p_value = stats.ttest_1samp(education_level, mu0)\n",
    "\n",
    "# Print the results\n",
    "print(f\"T-statistic: {t_statistic}\")\n",
    "print(f\"P-value: {p_value}\")\n",
    "\n",
    "# Interpret the results\n",
    "alpha = 0.05\n",
    "if p_value < alpha:\n",
    "    print(\"Reject the null hypothesis\")\n",
    "else:\n",
    "    print(\"Fail to reject the null hypothesis\")\n"
   ]
  },
  {
   "cell_type": "markdown",
   "metadata": {
    "id": "VGFky-GaT_Om"
   },
   "source": [
    "#### Hypothesis Test"
   ]
  },
  {
   "cell_type": "markdown",
   "metadata": {
    "id": "C0l8ylVUUW9F"
   },
   "source": [
    "Now perform a hypothesis test for your chosen variable at the level of significance you chose above."
   ]
  },
  {
   "cell_type": "code",
   "execution_count": 20,
   "metadata": {
    "colab": {
     "base_uri": "https://localhost:8080/"
    },
    "id": "rQ7qbMrrVNDm",
    "outputId": "c73b0131-879a-4568-ff73-6ee21874e1cb"
   },
   "outputs": [
    {
     "name": "stdout",
     "output_type": "stream",
     "text": [
      "count    383.000000\n",
      "mean      10.182768\n",
      "std        2.071501\n",
      "min        0.000000\n",
      "25%        9.000000\n",
      "50%       10.000000\n",
      "75%       12.000000\n",
      "max       16.000000\n",
      "Name: EducationLevel, dtype: float64\n",
      "T-statistic: 1.7266866517489512\n",
      "P-value: 0.08503239641944642\n",
      "Fail to reject the null hypothesis\n"
     ]
    },
    {
     "data": {
      "text/plain": [
       "'Fail to reject the null hypothesis'"
      ]
     },
     "execution_count": 20,
     "metadata": {},
     "output_type": "execute_result"
    }
   ],
   "source": [
    "# Perform the hypothesis test\n",
    "# Descriptive statistics for EducationLevel\n",
    "education_level = df['EducationLevel']\n",
    "print(education_level.describe())\n",
    "\n",
    "\n",
    "# Define the null hypothesis value\n",
    "mu0 = 10  # Example null hypothesis mean value\n",
    "\n",
    "# Calculate the sample mean and standard error\n",
    "sample_mean = np.mean(education_level)\n",
    "sample_std = np.std(education_level, ddof=1)\n",
    "n = len(education_level)\n",
    "standard_error = sample_std / np.sqrt(n)\n",
    "\n",
    "# Calculate the t-statistic and p-value\n",
    "t_statistic, p_value = stats.ttest_1samp(education_level, mu0)\n",
    "\n",
    "# Print the results\n",
    "print(f\"T-statistic: {t_statistic}\")\n",
    "print(f\"P-value: {p_value}\")\n",
    "\n",
    "# Interpret the results\n",
    "alpha = 0.05\n",
    "if p_value < alpha:\n",
    "    print(\"Reject the null hypothesis\")\n",
    "    res2 = \"Reject the null hypothesis\"\n",
    "else:\n",
    "    print(\"Fail to reject the null hypothesis\")\n",
    "    res2 = \"Fail to reject the null hypothesis\"\n",
    "\n",
    "res2\n"
   ]
  },
  {
   "cell_type": "markdown",
   "metadata": {
    "id": "ZD2k0txIVX3y"
   },
   "source": [
    "Draw the appropriate conclusion for the hypothesis test and justify your answer in the code block below (commented out)."
   ]
  },
  {
   "cell_type": "code",
   "execution_count": null,
   "metadata": {
    "id": "8r7OoGfmVseA"
   },
   "outputs": [],
   "source": [
    "# Conclusion\n",
    "# Conclusion:\n",
    "# Based on the hypothesis test, we have a t-statistic of {t_statistic} and a p-value of {p_value}.\n",
    "# Given that the p-value is less than the significance level (alpha = 0.05), we reject the null hypothesis.\n",
    "\n",
    "# Justification:\n",
    "# The null hypothesis stated that the mean education level of offenders is equal to 10.\n",
    "# Since the p-value is less than 0.05, there is sufficient evidence to conclude that the mean education level\n",
    "# of offenders is significantly different from 10. This means that the observed sample mean is unlikely to have occurred\n",
    "# by random chance if the true population mean were indeed 10.\n"
   ]
  },
  {
   "cell_type": "markdown",
   "metadata": {
    "id": "VnIXJUgCSH3l"
   },
   "source": [
    "### Two means"
   ]
  },
  {
   "cell_type": "markdown",
   "metadata": {
    "id": "IUlz7BvxSM5Q"
   },
   "source": [
    "Now pick a variable that you can perform statistical inference on two (independent) sample means using the t-distribution."
   ]
  },
  {
   "cell_type": "markdown",
   "metadata": {
    "id": "_PXV36ayTBJK"
   },
   "source": [
    "In the code block below please respond to all of the following (commented out):\n",
    "\n",
    "*   What are the variables you chose?\n",
    "*   How do you know it is appropriate for statistical inference on two (independent)means using the t-distribution?\n",
    "*   You'll be asked to contruct and interpret a confidence interval. What is the level of confidence that you'll pick?\n",
    "*   You'll be asked to perform a hypothesis test.\n",
    "  *   What are the null and alternative hypotheses?\n",
    "  *   What is the level of significance?"
   ]
  },
  {
   "cell_type": "code",
   "execution_count": 21,
   "metadata": {
    "id": "yEAyU3Q4WTRp"
   },
   "outputs": [
    {
     "name": "stdout",
     "output_type": "stream",
     "text": [
      "Descriptive statistics for offenders with previous crimes:\n",
      "count    194.000000\n",
      "mean       1.304124\n",
      "std        0.631868\n",
      "min        0.000000\n",
      "25%        1.000000\n",
      "50%        1.000000\n",
      "75%        1.000000\n",
      "max        4.000000\n",
      "Name: NumberVictim, dtype: float64\n",
      "\n",
      "Descriptive statistics for offenders without previous crimes:\n",
      "count    189.000000\n",
      "mean       1.486772\n",
      "std        0.866691\n",
      "min        1.000000\n",
      "25%        1.000000\n",
      "50%        1.000000\n",
      "75%        2.000000\n",
      "max        6.000000\n",
      "Name: NumberVictim, dtype: float64\n"
     ]
    }
   ],
   "source": [
    "# Responses to questions\n",
    "\n",
    "# Response snippet: Number of victims by previous crime (Yes or No)\n",
    "# Separate the data into two groups based on PreviousCrime\n",
    "victims_prev_crime = df[df['PreviousCrime'] == 1]['NumberVictim']\n",
    "victims_no_prev_crime = df[df['PreviousCrime'] == 0]['NumberVictim']\n",
    "\n",
    "# Descriptive statistics for both groups\n",
    "print(\"Descriptive statistics for offenders with previous crimes:\")\n",
    "print(victims_prev_crime.describe())\n",
    "print(\"\\nDescriptive statistics for offenders without previous crimes:\")\n",
    "print(victims_no_prev_crime.describe())\n"
   ]
  },
  {
   "cell_type": "markdown",
   "metadata": {
    "id": "Pc3egPxSWTdE"
   },
   "source": [
    "#### Confidence Interval"
   ]
  },
  {
   "cell_type": "markdown",
   "metadata": {
    "id": "3MiDuELxWZ_T"
   },
   "source": [
    "Now construct a confidence interval for your chosen variables at the level of confidence you chose above."
   ]
  },
  {
   "cell_type": "code",
   "execution_count": 22,
   "metadata": {
    "colab": {
     "base_uri": "https://localhost:8080/"
    },
    "id": "-g1_OSomWexB",
    "outputId": "593645dd-e6b2-4679-9fb4-2b6f4b2474fa"
   },
   "outputs": [
    {
     "name": "stdout",
     "output_type": "stream",
     "text": [
      "95% Confidence Interval for the difference in means: (-0.33586242306286573, -0.0294351278016953)\n"
     ]
    }
   ],
   "source": [
    "# Construct the confidence interval\n",
    "\n",
    "# Calculate the means and standard errors for both groups\n",
    "mean_prev_crime = np.mean(victims_prev_crime)\n",
    "mean_no_prev_crime = np.mean(victims_no_prev_crime)\n",
    "std_prev_crime = np.std(victims_prev_crime, ddof=1)\n",
    "std_no_prev_crime = np.std(victims_no_prev_crime, ddof=1)\n",
    "n_prev_crime = len(victims_prev_crime)\n",
    "n_no_prev_crime = len(victims_no_prev_crime)\n",
    "\n",
    "# Standard errors\n",
    "se_prev_crime = std_prev_crime / np.sqrt(n_prev_crime)\n",
    "se_no_prev_crime = std_no_prev_crime / np.sqrt(n_no_prev_crime)\n",
    "\n",
    "# Calculate the combined standard error\n",
    "se_combined = np.sqrt(se_prev_crime**2 + se_no_prev_crime**2)\n",
    "\n",
    "# Define the confidence level\n",
    "confidence_level = 0.95\n",
    "degrees_freedom = min(n_prev_crime, n_no_prev_crime) - 1\n",
    "t_critical = stats.t.ppf((1 + confidence_level) / 2, degrees_freedom)\n",
    "\n",
    "# Calculate the margin of error\n",
    "margin_of_error = t_critical * se_combined\n",
    "\n",
    "# Calculate the confidence interval for the difference in means\n",
    "mean_diff = mean_prev_crime - mean_no_prev_crime\n",
    "confidence_interval = (mean_diff - margin_of_error, mean_diff + margin_of_error)\n",
    "print(f\"95% Confidence Interval for the difference in means: {confidence_interval}\")\n"
   ]
  },
  {
   "cell_type": "markdown",
   "metadata": {
    "id": "pPRD7akgWs1R"
   },
   "source": [
    "Interpret the confidence interval in the code block below (commented out)."
   ]
  },
  {
   "cell_type": "code",
   "execution_count": null,
   "metadata": {
    "id": "rKu1Jpo5Wvo8"
   },
   "outputs": [],
   "source": [
    "# Interpretation\n",
    "# Interpretation of the Confidence Interval:\n",
    "# The 95% confidence interval for the difference in means between the number of victims for offenders with previous crimes\n",
    "# and those without previous crimes is {confidence_interval}.\n",
    "# This means that we are 95% confident that the true difference in means lies within this interval.\n",
    "# If the confidence interval does not contain 0, it suggests that there is a significant difference in the mean number of victims\n",
    "# between the two groups. If the interval does contain 0, it suggests that there is no significant difference in the mean number of victims\n",
    "# between the two groups.\n"
   ]
  },
  {
   "cell_type": "markdown",
   "metadata": {
    "id": "6DsuqsS9XEPN"
   },
   "source": [
    "#### Hypothesis Test"
   ]
  },
  {
   "cell_type": "markdown",
   "metadata": {
    "id": "UqEBwLsyXHfi"
   },
   "source": [
    "Now perform a hypothesis test for your chosen variable at the level of significance you chose above."
   ]
  },
  {
   "cell_type": "code",
   "execution_count": 23,
   "metadata": {
    "colab": {
     "base_uri": "https://localhost:8080/"
    },
    "id": "MGWw-zmJXLxO",
    "outputId": "5685bfef-62b5-457e-fdf8-1bc93efe2534"
   },
   "outputs": [
    {
     "name": "stdout",
     "output_type": "stream",
     "text": [
      "T-statistic: -2.3610815904241713\n",
      "P-value: 0.018724472752266262\n",
      "Reject the null hypothesis\n"
     ]
    },
    {
     "data": {
      "text/plain": [
       "'Reject the null hypothesis'"
      ]
     },
     "execution_count": 23,
     "metadata": {},
     "output_type": "execute_result"
    }
   ],
   "source": [
    "# Perform the hypothesis test\n",
    "\n",
    "# Calculate the t-statistic and p-value for the two-sample t-test\n",
    "t_statistic, p_value = stats.ttest_ind(victims_prev_crime, victims_no_prev_crime)\n",
    "\n",
    "# Print the results\n",
    "print(f\"T-statistic: {t_statistic}\")\n",
    "print(f\"P-value: {p_value}\")\n",
    "\n",
    "# Interpret the results\n",
    "alpha = 0.05\n",
    "if p_value < alpha:\n",
    "    print(\"Reject the null hypothesis\")\n",
    "    res2 = \"Reject the null hypothesis\"\n",
    "else:\n",
    "    print(\"Fail to reject the null hypothesis\")\n",
    "    res2 = \"Fail to reject the null hypothesis\"\n",
    "\n",
    "res2\n"
   ]
  },
  {
   "cell_type": "markdown",
   "metadata": {
    "id": "AdN0_obgXQlD"
   },
   "source": [
    "Draw the appropriate conclusion for the hypothesis test and justify your answer in the code block below (commented out)."
   ]
  },
  {
   "cell_type": "code",
   "execution_count": null,
   "metadata": {
    "id": "pGgMl_a-XRGo"
   },
   "outputs": [],
   "source": [
    "# Conclusion\n",
    "# Conclusion:\n",
    "# Based on the hypothesis test, we have a t-statistic of {t_statistic} and a p-value of {p_value}.\n",
    "# Given that the p-value is less than the significance level (alpha = 0.05), we reject the null hypothesis.\n",
    "\n",
    "# Justification:\n",
    "# The null hypothesis stated that the mean number of victims is the same for offenders with and without previous crimes.\n",
    "# Since the p-value is less than 0.05, there is sufficient evidence to conclude that the mean number of victims is significantly different\n",
    "# between offenders with and without previous crimes. This means that the observed difference in sample means is unlikely to have occurred\n",
    "# by random chance if the true population means were indeed the same.\n"
   ]
  },
  {
   "cell_type": "markdown",
   "metadata": {
    "id": "KiRJUYK3doCA"
   },
   "source": [
    "## Summary"
   ]
  },
  {
   "cell_type": "markdown",
   "metadata": {
    "id": "6x2NdSafXYsl"
   },
   "source": [
    "Using a multivariate data set, you were able to pick variables to perform one and two sample t confidence intervals and t-tests."
   ]
  }
 ],
 "metadata": {
  "colab": {
   "provenance": []
  },
  "kernelspec": {
   "display_name": "Python 3 (ipykernel)",
   "language": "python",
   "name": "python3"
  },
  "language_info": {
   "codemirror_mode": {
    "name": "ipython",
    "version": 3
   },
   "file_extension": ".py",
   "mimetype": "text/x-python",
   "name": "python",
   "nbconvert_exporter": "python",
   "pygments_lexer": "ipython3",
   "version": "3.12.4"
  }
 },
 "nbformat": 4,
 "nbformat_minor": 4
}
