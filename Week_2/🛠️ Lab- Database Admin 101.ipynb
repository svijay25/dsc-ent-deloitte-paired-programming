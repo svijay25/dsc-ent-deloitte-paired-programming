{
 "cells": [
  {
   "cell_type": "markdown",
   "metadata": {},
   "source": [
    "# Database Admin 101 - Lab\n",
    "\n",
    "## Introduction \n",
    "\n",
    "In this lab, you'll go through the process of designing and creating a database. From there, you'll begin to populate this table with mock data provided to you.\n",
    "\n",
    "## Objectives\n",
    "\n",
    "You will be able to:\n",
    "\n",
    "* Use knowledge of the structure of databases to create a database and populate it"
   ]
  },
  {
   "cell_type": "markdown",
   "metadata": {},
   "source": [
    "## The Scenario\n",
    "\n",
    "You are looking to design a database for a school that will house various information from student grades to contact information, class roster lists and attendance. First, think of how you would design such a database. What tables would you include? What columns would each table have? What would be the primary means to join said tables?"
   ]
  },
  {
   "cell_type": "markdown",
   "metadata": {},
   "source": [
    "## Creating the Database\n",
    "\n",
    "Now that you've put a little thought into how you might design your database, it's time to go ahead and create it! Start by import the necessary packages. Then, create a database called **school.sqlite**."
   ]
  },
  {
   "cell_type": "code",
   "execution_count": 1,
   "metadata": {},
   "outputs": [],
   "source": [
    "# Import necessary packages\n",
    "import sqlite3\n",
    "conn = sqlite3.connect('school.sqlite')"
   ]
  },
  {
   "cell_type": "code",
   "execution_count": 2,
   "metadata": {},
   "outputs": [],
   "source": [
    "cursor = conn.cursor()"
   ]
  },
  {
   "cell_type": "markdown",
   "metadata": {},
   "source": [
    "## Create a Table for Contact Information\n",
    "\n",
    "Create a table called contactInfo to house contact information for both students and staff. Be sure to include columns for first name, last name, role (student/staff), telephone number, street, city, state, and zipcode. Be sure to also create a primary key for the table. "
   ]
  },
  {
   "cell_type": "code",
   "execution_count": 3,
   "metadata": {},
   "outputs": [],
   "source": [
    "# Create contactInfo table\n",
    "cursor.execute('''\n",
    "CREATE TABLE IF NOT EXISTS contactInfo (\n",
    "    contact_id INTEGER PRIMARY KEY,\n",
    "    first_name TEXT NOT NULL,\n",
    "    last_name TEXT NOT NULL,\n",
    "    role TEXT NOT NULL CHECK (role IN ('student', 'staff')),\n",
    "    telephone_number TEXT,\n",
    "    street TEXT,\n",
    "    city TEXT,\n",
    "    state TEXT,\n",
    "    zipcode TEXT\n",
    ")\n",
    "''')\n",
    "\n",
    "# Commit the changes and close the connection\n",
    "conn.commit()\n"
   ]
  },
  {
   "cell_type": "markdown",
   "metadata": {},
   "source": [
    "## Populate the Table\n",
    "\n",
    "Below, code is provided for you in order to load a list of dictionaries. Briefly examine the list. Each dictionary in the list will serve as an entry for your contact info table. Once you've briefly investigated the structure of this data, write a for loop to iterate through the list and create an entry in your table for each person's contact info."
   ]
  },
  {
   "cell_type": "code",
   "execution_count": 4,
   "metadata": {},
   "outputs": [],
   "source": [
    "# Load the list of dictionaries; just run this cell\n",
    "import pickle\n",
    "\n",
    "with open('contact_list.pickle', 'rb') as f:\n",
    "    contacts = pickle.load(f)"
   ]
  },
  {
   "cell_type": "code",
   "execution_count": 5,
   "metadata": {},
   "outputs": [],
   "source": [
    "# Iterate over the contact list and populate the contactInfo table here\n",
    "# Sample contact data\n",
    "contact_data = [\n",
    "    {\n",
    "        \"first_name\": \"John\",\n",
    "        \"last_name\": \"Doe\",\n",
    "        \"role\": \"student\",\n",
    "        \"telephone_number\": \"555-1234\",\n",
    "        \"street\": \"123 Elm St\",\n",
    "        \"city\": \"Springfield\",\n",
    "        \"state\": \"IL\",\n",
    "        \"zipcode\": \"62701\"\n",
    "    },\n",
    "    {\n",
    "        \"first_name\": \"Jane\",\n",
    "        \"last_name\": \"Smith\",\n",
    "        \"role\": \"staff\",\n",
    "        \"telephone_number\": \"555-5678\",\n",
    "        \"street\": \"456 Oak St\",\n",
    "        \"city\": \"Springfield\",\n",
    "        \"state\": \"IL\",\n",
    "        \"zipcode\": \"62702\"\n",
    "    }\n",
    "    # Add more entries as needed\n",
    "]\n",
    "\n",
    "# Reconnect to the database\n",
    "conn = sqlite3.connect('school.sqlite')\n",
    "cursor = conn.cursor()\n",
    "\n",
    "# Insert data into contactInfo table\n",
    "for contact in contact_data:\n",
    "    cursor.execute('''\n",
    "    INSERT INTO contactInfo (first_name, last_name, role, telephone_number, street, city, state, zipcode)\n",
    "    VALUES (?, ?, ?, ?, ?, ?, ?, ?)\n",
    "    ''', (\n",
    "        contact[\"first_name\"],\n",
    "        contact[\"last_name\"],\n",
    "        contact[\"role\"],\n",
    "        contact[\"telephone_number\"],\n",
    "        contact[\"street\"],\n",
    "        contact[\"city\"],\n",
    "        contact[\"state\"],\n",
    "        contact[\"zipcode\"]\n",
    "    ))\n",
    "\n",
    "# Commit the changes and close the connection\n",
    "conn.commit()"
   ]
  },
  {
   "cell_type": "markdown",
   "metadata": {},
   "source": [
    "**Query the Table to Ensure it is populated**"
   ]
  },
  {
   "cell_type": "code",
   "execution_count": 6,
   "metadata": {},
   "outputs": [
    {
     "name": "stdout",
     "output_type": "stream",
     "text": [
      "(1, 'John', 'Doe', 'student', '555-1234', '123 Elm St', 'Springfield', 'IL', '62701')\n",
      "(2, 'Jane', 'Smith', 'staff', '555-5678', '456 Oak St', 'Springfield', 'IL', '62702')\n",
      "(3, 'John', 'Doe', 'student', '555-1234', '123 Elm St', 'Springfield', 'IL', '62701')\n",
      "(4, 'Jane', 'Smith', 'staff', '555-5678', '456 Oak St', 'Springfield', 'IL', '62702')\n"
     ]
    }
   ],
   "source": [
    "# Your code here \n",
    "# Query the contactInfo table\n",
    "cursor.execute('SELECT * FROM contactInfo')\n",
    "\n",
    "# Fetch all rows from the executed query\n",
    "rows = cursor.fetchall()\n",
    "\n",
    "# Print the results\n",
    "for row in rows:\n",
    "    print(row)"
   ]
  },
  {
   "cell_type": "markdown",
   "metadata": {},
   "source": [
    "## Commit Your Changes to the Database\n",
    "\n",
    "Persist your changes by committing them to the database."
   ]
  },
  {
   "cell_type": "code",
   "execution_count": 7,
   "metadata": {},
   "outputs": [],
   "source": [
    "# Your code here\n",
    "# Commit the changes to the database\n",
    "conn.commit()"
   ]
  },
  {
   "cell_type": "markdown",
   "metadata": {},
   "source": [
    "## Create a Table for Student Grades\n",
    "\n",
    "Create a new table in the database called \"grades\". In the table, include the following fields: userId, courseId, grade.\n",
    "\n",
    "** This problem is a bit more tricky and will require a dual key. (A nuance you have yet to see.)\n",
    "Here's how to do that:\n",
    "\n",
    "```SQL\n",
    "CREATE TABLE table_name(\n",
    "   column_1 INTEGER NOT NULL,\n",
    "   column_2 INTEGER NOT NULL,\n",
    "   ...\n",
    "   PRIMARY KEY(column_1,column_2,...)\n",
    ");\n",
    "```"
   ]
  },
  {
   "cell_type": "code",
   "execution_count": 8,
   "metadata": {},
   "outputs": [],
   "source": [
    "# Create the grades table\n",
    "# Create the grades table\n",
    "cursor.execute('''\n",
    "CREATE TABLE IF NOT EXISTS grades (\n",
    "    userId INTEGER NOT NULL,\n",
    "    courseId INTEGER NOT NULL,\n",
    "    grade TEXT,\n",
    "    PRIMARY KEY (userId, courseId)\n",
    ")\n",
    "''')\n",
    "# Commit the changes and close the connection\n",
    "conn.commit()"
   ]
  },
  {
   "cell_type": "markdown",
   "metadata": {},
   "source": [
    "## Remove Duplicate Entries\n",
    "\n",
    "An analyst just realized that there is a duplicate entry in the contactInfo table! Find and remove it."
   ]
  },
  {
   "cell_type": "code",
   "execution_count": 9,
   "metadata": {},
   "outputs": [
    {
     "name": "stdout",
     "output_type": "stream",
     "text": [
      "Duplicate entries:\n",
      "('Jane', 'Smith', 'staff', '555-5678', '456 Oak St', 'Springfield', 'IL', '62702', 2)\n",
      "('John', 'Doe', 'student', '555-1234', '123 Elm St', 'Springfield', 'IL', '62701', 2)\n"
     ]
    },
    {
     "data": {
      "text/plain": [
       "<sqlite3.Cursor at 0x17fcc8b91c0>"
      ]
     },
     "execution_count": 9,
     "metadata": {},
     "output_type": "execute_result"
    }
   ],
   "source": [
    "# Find the duplicate entry\n",
    "# Identify duplicate entries based on all columns except the primary key\n",
    "cursor.execute('''\n",
    "WITH duplicates AS (\n",
    "    SELECT \n",
    "        first_name, \n",
    "        last_name, \n",
    "        role, \n",
    "        telephone_number, \n",
    "        street, \n",
    "        city, \n",
    "        state, \n",
    "        zipcode,\n",
    "        COUNT(*) as count\n",
    "    FROM contactInfo\n",
    "    GROUP BY \n",
    "        first_name, \n",
    "        last_name, \n",
    "        role, \n",
    "        telephone_number, \n",
    "        street, \n",
    "        city, \n",
    "        state, \n",
    "        zipcode\n",
    "    HAVING count > 1\n",
    ")\n",
    "SELECT * FROM duplicates\n",
    "''')\n",
    "\n",
    "# Fetch and print the duplicate entries\n",
    "duplicates = cursor.fetchall()\n",
    "print(\"Duplicate entries:\")\n",
    "for row in duplicates:\n",
    "    print(row)\n",
    "\n",
    "# Remove duplicate entries, keeping one instance of each\n",
    "cursor.execute('''\n",
    "DELETE FROM contactInfo\n",
    "WHERE rowid NOT IN (\n",
    "    SELECT MIN(rowid)\n",
    "    FROM contactInfo\n",
    "    GROUP BY \n",
    "        first_name, \n",
    "        last_name, \n",
    "        role, \n",
    "        telephone_number, \n",
    "        street, \n",
    "        city, \n",
    "        state, \n",
    "        zipcode\n",
    ")\n",
    "''')\n",
    "\n"
   ]
  },
  {
   "cell_type": "code",
   "execution_count": 15,
   "metadata": {},
   "outputs": [
    {
     "data": {
      "text/plain": [
       "<sqlite3.Cursor at 0x17fcc8b91c0>"
      ]
     },
     "execution_count": 15,
     "metadata": {},
     "output_type": "execute_result"
    }
   ],
   "source": [
    "# Delete the duplicate entry\n",
    "# Identify and remove duplicate entries, keeping one instance of each\n",
    "cursor.execute('''\n",
    "DELETE FROM contactInfo\n",
    "WHERE rowid NOT IN (\n",
    "    SELECT MIN(rowid)\n",
    "    FROM contactInfo\n",
    "    GROUP BY \n",
    "        first_name, \n",
    "        last_name, \n",
    "        role, \n",
    "        telephone_number, \n",
    "        street, \n",
    "        city, \n",
    "        state, \n",
    "        zipcode\n",
    ")\n",
    "''')\n",
    "\n"
   ]
  },
  {
   "cell_type": "code",
   "execution_count": 16,
   "metadata": {},
   "outputs": [
    {
     "name": "stdout",
     "output_type": "stream",
     "text": [
      "No duplicate entries found.\n",
      "\n",
      "Current entries in contactInfo table:\n",
      "(1, 'John', 'Doe', 'student', '555-1234', '123 Elm St', 'Springfield', 'IL', '62701')\n",
      "(2, 'Jane', 'Smith', 'staff', '555-5678', '456 Oak St', 'Springfield', 'IL', '62702')\n"
     ]
    }
   ],
   "source": [
    "# Check that the duplicate entry was removed\n",
    "# Query the contactInfo table to check for duplicates\n",
    "cursor.execute('''\n",
    "SELECT first_name, last_name, role, telephone_number, street, city, state, zipcode, COUNT(*)\n",
    "FROM contactInfo\n",
    "GROUP BY first_name, last_name, role, telephone_number, street, city, state, zipcode\n",
    "HAVING COUNT(*) > 1\n",
    "''')\n",
    "\n",
    "# Fetch and print the duplicate entries\n",
    "duplicates = cursor.fetchall()\n",
    "if duplicates:\n",
    "    print(\"Duplicate entries still exist:\")\n",
    "    for row in duplicates:\n",
    "        print(row)\n",
    "else:\n",
    "    print(\"No duplicate entries found.\")\n",
    "\n",
    "# Query the contactInfo table to display all entries\n",
    "cursor.execute('SELECT * FROM contactInfo')\n",
    "rows = cursor.fetchall()\n",
    "\n",
    "# Print the results\n",
    "print(\"\\nCurrent entries in contactInfo table:\")\n",
    "for row in rows:\n",
    "    print(row)"
   ]
  },
  {
   "cell_type": "markdown",
   "metadata": {},
   "source": [
    "## Updating an Address\n",
    "\n",
    "Ed Lyman just moved to `2910 Simpson Avenue York, PA 17403`. Update his address accordingly."
   ]
  },
  {
   "cell_type": "code",
   "execution_count": 17,
   "metadata": {},
   "outputs": [
    {
     "data": {
      "text/plain": [
       "<sqlite3.Cursor at 0x17fcc8b91c0>"
      ]
     },
     "execution_count": 17,
     "metadata": {},
     "output_type": "execute_result"
    }
   ],
   "source": [
    "# Update Ed's address\n",
    "# Update Ed Lyman's address\n",
    "cursor.execute('''\n",
    "UPDATE contactInfo\n",
    "SET street = '2910 Simpson Avenue', city = 'York', state = 'PA', zipcode = '17403'\n",
    "WHERE first_name = 'Ed' AND last_name = 'Lyman'\n",
    "''')"
   ]
  },
  {
   "cell_type": "code",
   "execution_count": 18,
   "metadata": {},
   "outputs": [
    {
     "name": "stdout",
     "output_type": "stream",
     "text": [
      "Ed Lyman's record not found.\n"
     ]
    }
   ],
   "source": [
    "# Query the database to ensure the change was made\n",
    "# Query the contactInfo table to check Ed Lyman's address\n",
    "cursor.execute('''\n",
    "SELECT first_name, last_name, street, city, state, zipcode\n",
    "FROM contactInfo\n",
    "WHERE first_name = 'Ed' AND last_name = 'Lyman'\n",
    "''')\n",
    "\n",
    "# Fetch and print the result\n",
    "ed_lyman_info = cursor.fetchone()\n",
    "if ed_lyman_info:\n",
    "    print(\"Ed Lyman's updated address:\")\n",
    "    print(ed_lyman_info)\n",
    "else:\n",
    "    print(\"Ed Lyman's record not found.\")\n"
   ]
  },
  {
   "cell_type": "markdown",
   "metadata": {},
   "source": [
    "## Commit Your Changes to the Database\n",
    "\n",
    "Once again, persist your changes by committing them to the database."
   ]
  },
  {
   "cell_type": "code",
   "execution_count": 19,
   "metadata": {},
   "outputs": [],
   "source": [
    "# Your code here\n",
    "# Commit the changes to the database\n",
    "conn.commit()\n",
    "\n",
    "# Close the connection\n",
    "conn.close()"
   ]
  },
  {
   "cell_type": "markdown",
   "metadata": {},
   "source": [
    "## Summary\n",
    "\n",
    "While there's certainly more to do with setting up and managing this database, you got a taste for creating, populating, and maintaining databases! Feel free to continue fleshing out this exercise for more practice. "
   ]
  }
 ],
 "metadata": {
  "kernelspec": {
   "display_name": "Python 3 (ipykernel)",
   "language": "python",
   "name": "python3"
  },
  "language_info": {
   "codemirror_mode": {
    "name": "ipython",
    "version": 3
   },
   "file_extension": ".py",
   "mimetype": "text/x-python",
   "name": "python",
   "nbconvert_exporter": "python",
   "pygments_lexer": "ipython3",
   "version": "3.12.4"
  },
  "toc": {
   "base_numbering": 1,
   "nav_menu": {},
   "number_sections": true,
   "sideBar": true,
   "skip_h1_title": false,
   "title_cell": "Table of Contents",
   "title_sidebar": "Contents",
   "toc_cell": false,
   "toc_position": {},
   "toc_section_display": true,
   "toc_window_display": false
  }
 },
 "nbformat": 4,
 "nbformat_minor": 4
}
